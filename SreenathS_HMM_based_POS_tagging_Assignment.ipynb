{
 "cells": [
  {
   "cell_type": "markdown",
   "metadata": {},
   "source": [
    "# POS TAGGING USING MODIEFIED VITERBI"
   ]
  },
  {
   "cell_type": "markdown",
   "metadata": {},
   "source": [
    "#### SREENATH S"
   ]
  },
  {
   "cell_type": "markdown",
   "metadata": {},
   "source": [
    "## OBJECTIVE:"
   ]
  },
  {
   "cell_type": "markdown",
   "metadata": {},
   "source": [
    "Modify the Viterbi algorithm to solve the problem of unknown words using at least two techniques. Though there could be multiple ways to solve this problem, you may use the following hints:\n",
    "\n",
    "Which tag class do you think most unknown words belong to? Can you identify rules (e.g. based on morphological cues) that can be used to tag unknown words? You may define separate python functions to exploit these rules so that they work in tandem with the original Viterbi algorithm.\n",
    "\n",
    "\n",
    "Why does the Viterbi algorithm choose a random tag on encountering an unknown word? Can you modify the Viterbi algorithm so that it considers only one of the transition or emission probabilities for unknown words?"
   ]
  },
  {
   "cell_type": "markdown",
   "metadata": {},
   "source": [
    "### DATA PREPERATION"
   ]
  },
  {
   "cell_type": "markdown",
   "metadata": {},
   "source": [
    "Importing required libraries"
   ]
  },
  {
   "cell_type": "code",
   "execution_count": 1,
   "metadata": {},
   "outputs": [],
   "source": [
    "import nltk\n",
    "import re\n",
    "import numpy as np\n",
    "import pandas as pd\n",
    "import matplotlib.pyplot as plt\n",
    "import seaborn as sns\n",
    "import pprint, time\n",
    "import random\n",
    "from sklearn.model_selection import train_test_split\n",
    "from nltk.tokenize import word_tokenize\n",
    "from collections import Counter"
   ]
  },
  {
   "cell_type": "markdown",
   "metadata": {},
   "source": [
    "Read the treebank tagged sentences"
   ]
  },
  {
   "cell_type": "code",
   "execution_count": 2,
   "metadata": {},
   "outputs": [],
   "source": [
    "nltk_data = list(nltk.corpus.treebank.tagged_sents(tagset='universal'))"
   ]
  },
  {
   "cell_type": "code",
   "execution_count": 3,
   "metadata": {},
   "outputs": [
    {
     "name": "stdout",
     "output_type": "stream",
     "text": [
      "[[('Pierre', 'NOUN'), ('Vinken', 'NOUN'), (',', '.'), ('61', 'NUM'), ('years', 'NOUN'), ('old', 'ADJ'), (',', '.'), ('will', 'VERB'), ('join', 'VERB'), ('the', 'DET'), ('board', 'NOUN'), ('as', 'ADP'), ('a', 'DET'), ('nonexecutive', 'ADJ'), ('director', 'NOUN'), ('Nov.', 'NOUN'), ('29', 'NUM'), ('.', '.')], [('Mr.', 'NOUN'), ('Vinken', 'NOUN'), ('is', 'VERB'), ('chairman', 'NOUN'), ('of', 'ADP'), ('Elsevier', 'NOUN'), ('N.V.', 'NOUN'), (',', '.'), ('the', 'DET'), ('Dutch', 'NOUN'), ('publishing', 'VERB'), ('group', 'NOUN'), ('.', '.')], [('Rudolph', 'NOUN'), ('Agnew', 'NOUN'), (',', '.'), ('55', 'NUM'), ('years', 'NOUN'), ('old', 'ADJ'), ('and', 'CONJ'), ('former', 'ADJ'), ('chairman', 'NOUN'), ('of', 'ADP'), ('Consolidated', 'NOUN'), ('Gold', 'NOUN'), ('Fields', 'NOUN'), ('PLC', 'NOUN'), (',', '.'), ('was', 'VERB'), ('named', 'VERB'), ('*-1', 'X'), ('a', 'DET'), ('nonexecutive', 'ADJ'), ('director', 'NOUN'), ('of', 'ADP'), ('this', 'DET'), ('British', 'ADJ'), ('industrial', 'ADJ'), ('conglomerate', 'NOUN'), ('.', '.')], [('A', 'DET'), ('form', 'NOUN'), ('of', 'ADP'), ('asbestos', 'NOUN'), ('once', 'ADV'), ('used', 'VERB'), ('*', 'X'), ('*', 'X'), ('to', 'PRT'), ('make', 'VERB'), ('Kent', 'NOUN'), ('cigarette', 'NOUN'), ('filters', 'NOUN'), ('has', 'VERB'), ('caused', 'VERB'), ('a', 'DET'), ('high', 'ADJ'), ('percentage', 'NOUN'), ('of', 'ADP'), ('cancer', 'NOUN'), ('deaths', 'NOUN'), ('among', 'ADP'), ('a', 'DET'), ('group', 'NOUN'), ('of', 'ADP'), ('workers', 'NOUN'), ('exposed', 'VERB'), ('*', 'X'), ('to', 'PRT'), ('it', 'PRON'), ('more', 'ADV'), ('than', 'ADP'), ('30', 'NUM'), ('years', 'NOUN'), ('ago', 'ADP'), (',', '.'), ('researchers', 'NOUN'), ('reported', 'VERB'), ('0', 'X'), ('*T*-1', 'X'), ('.', '.')], [('The', 'DET'), ('asbestos', 'NOUN'), ('fiber', 'NOUN'), (',', '.'), ('crocidolite', 'NOUN'), (',', '.'), ('is', 'VERB'), ('unusually', 'ADV'), ('resilient', 'ADJ'), ('once', 'ADP'), ('it', 'PRON'), ('enters', 'VERB'), ('the', 'DET'), ('lungs', 'NOUN'), (',', '.'), ('with', 'ADP'), ('even', 'ADV'), ('brief', 'ADJ'), ('exposures', 'NOUN'), ('to', 'PRT'), ('it', 'PRON'), ('causing', 'VERB'), ('symptoms', 'NOUN'), ('that', 'DET'), ('*T*-1', 'X'), ('show', 'VERB'), ('up', 'PRT'), ('decades', 'NOUN'), ('later', 'ADJ'), (',', '.'), ('researchers', 'NOUN'), ('said', 'VERB'), ('0', 'X'), ('*T*-2', 'X'), ('.', '.')]]\n"
     ]
    }
   ],
   "source": [
    "# first few tagged sentences\n",
    "print(nltk_data[:5])"
   ]
  },
  {
   "cell_type": "code",
   "execution_count": 4,
   "metadata": {},
   "outputs": [
    {
     "name": "stdout",
     "output_type": "stream",
     "text": [
      "Training set length:  3718\n",
      "\n",
      "Test set length:  196\n",
      "\n",
      "Training Set Data at a glance: \n",
      "\n",
      " [[('Bank', 'NOUN'), ('of', 'ADP'), ('New', 'NOUN'), ('England', 'NOUN'), (\"'s\", 'PRT'), ('shares', 'NOUN'), ('are', 'VERB'), ('traded', 'VERB'), ('*-1', 'X'), ('on', 'ADP'), ('the', 'DET'), ('New', 'NOUN'), ('York', 'NOUN'), ('Stock', 'NOUN'), ('Exchange', 'NOUN'), ('.', '.')], [('$', '.'), ('130', 'NUM'), ('million', 'NUM'), ('*U*', 'X'), ('of', 'ADP'), ('general', 'ADJ'), ('obligation', 'NOUN'), ('distributable', 'ADJ'), ('state', 'NOUN'), ('aid', 'NOUN'), ('bonds', 'NOUN'), ('due', 'ADJ'), ('1991-2000', 'NUM'), ('and', 'CONJ'), ('2009', 'NUM'), (',', '.'), ('tentatively', 'ADV'), ('priced', 'VERB'), ('*', 'X'), ('by', 'ADP'), ('a', 'DET'), ('Chemical', 'NOUN'), ('Securities', 'NOUN'), ('Inc.', 'NOUN'), ('group', 'NOUN'), ('*', 'X'), ('to', 'PRT'), ('yield', 'VERB'), ('from', 'ADP'), ('6.20', 'NUM'), ('%', 'NOUN'), ('in', 'ADP'), ('1991', 'NUM'), ('to', 'PRT'), ('7.272', 'NUM'), ('%', 'NOUN'), ('in', 'ADP'), ('2009', 'NUM'), ('.', '.')], [('``', '.'), ('They', 'PRON'), ('were', 'VERB'), ('a', 'DET'), ('self-perpetuating', 'ADJ'), ('club', 'NOUN'), ('that', 'DET'), ('*T*-229', 'X'), ('treated', 'VERB'), ('the', 'DET'), ('tower', 'NOUN'), ('as', 'ADP'), ('sort', 'NOUN'), ('of', 'ADP'), ('a', 'DET'), ('separate', 'ADJ'), ('premises', 'NOUN'), (',', '.'), (\"''\", '.'), ('the', 'DET'), ('Vicar', 'NOUN'), ('Hummerstone', 'NOUN'), ('says', 'VERB'), ('*T*-1', 'X'), ('.', '.')], [('Valley', 'NOUN'), ('Federal', 'NOUN'), ('Savings', 'NOUN'), ('&', 'CONJ'), ('Loan', 'NOUN'), ('Association', 'NOUN'), ('took', 'VERB'), ('an', 'DET'), ('$', '.'), ('89.9', 'NUM'), ('million', 'NUM'), ('*U*', 'X'), ('charge', 'NOUN'), ('as', 'ADP'), ('it', 'PRON'), ('reported', 'VERB'), ('a', 'DET'), ('third-quarter', 'NOUN'), ('loss', 'NOUN'), ('of', 'ADP'), ('$', '.'), ('70.7', 'NUM'), ('million', 'NUM'), ('*U*', 'X'), (',', '.'), ('or', 'CONJ'), ('$', '.'), ('12.09', 'NUM'), ('*U*', 'X'), ('a', 'DET'), ('share', 'NOUN'), ('.', '.')], [('``', '.'), ('The', 'DET'), ('Herald', 'NOUN'), ('was', 'VERB'), ('a', 'DET'), ('survivor', 'NOUN'), ('from', 'ADP'), ('a', 'DET'), ('bygone', 'ADJ'), ('age', 'NOUN'), (',', '.'), (\"''\", '.'), ('said', 'VERB'), ('*T*-1', 'X'), ('J.', 'NOUN'), ('Kendrick', 'NOUN'), ('Noble', 'NOUN'), (',', '.'), ('a', 'DET'), ('media', 'NOUN'), ('analyst', 'NOUN'), ('with', 'ADP'), ('PaineWebber', 'NOUN'), ('Inc', 'NOUN'), ('.', '.')]]\n"
     ]
    }
   ],
   "source": [
    "# Splitting into train and test\n",
    "train_set, test_set = train_test_split(nltk_data,train_size = 0.95, test_size=0.05, random_state = 42)\n",
    "\n",
    "print(\"Training set length: \", len(train_set))\n",
    "print(\"\\nTest set length: \", len(test_set))\n",
    "print(\"\\nTraining Set Data at a glance: \\n\\n\", train_set[:5])"
   ]
  },
  {
   "cell_type": "markdown",
   "metadata": {},
   "source": [
    "A quick observation from above tagged words is that, whenever '*' appers with some alpha-numeric characters it is tagged as 'X'.\n",
    "Also when \"xyz-abc\"occurs it is tagged as ADJ"
   ]
  },
  {
   "cell_type": "code",
   "execution_count": 5,
   "metadata": {},
   "outputs": [
    {
     "name": "stdout",
     "output_type": "stream",
     "text": [
      "Number of tagged words in Training Set:  95589\n"
     ]
    }
   ],
   "source": [
    "# Getting list of tagged words\n",
    "train_tagged_words = [tup for sent in train_set for tup in sent]\n",
    "print(\"Number of tagged words in Training Set: \", len(train_tagged_words))"
   ]
  },
  {
   "cell_type": "code",
   "execution_count": 6,
   "metadata": {},
   "outputs": [
    {
     "name": "stdout",
     "output_type": "stream",
     "text": [
      "Number of tagged words in Test Set:  5087\n"
     ]
    }
   ],
   "source": [
    "# Getting list of tagged words\n",
    "test_tagged_words = [tup for sent in test_set for tup in sent]\n",
    "print(\"Number of tagged words in Test Set: \", len(test_tagged_words))"
   ]
  },
  {
   "cell_type": "code",
   "execution_count": 7,
   "metadata": {},
   "outputs": [
    {
     "name": "stdout",
     "output_type": "stream",
     "text": [
      "Train words (first 10):  ['Bank', 'of', 'New', 'England', \"'s\", 'shares', 'are', 'traded', '*-1', 'on']\n"
     ]
    }
   ],
   "source": [
    "# tokens \n",
    "train_words = [pair[0] for pair in train_tagged_words]\n",
    "print(\"Train words (first 10): \", train_words[:10])"
   ]
  },
  {
   "cell_type": "code",
   "execution_count": 8,
   "metadata": {},
   "outputs": [
    {
     "name": "stdout",
     "output_type": "stream",
     "text": [
      "Vocabulary size:  12109\n"
     ]
    }
   ],
   "source": [
    "train_unique_words = set(train_words)\n",
    "vocab_size = len(train_unique_words)\n",
    "print(\"Vocabulary size: \", vocab_size)"
   ]
  },
  {
   "cell_type": "code",
   "execution_count": 9,
   "metadata": {},
   "outputs": [
    {
     "name": "stdout",
     "output_type": "stream",
     "text": [
      "Train tags (first 10):  ['NOUN', 'ADP', 'NOUN', 'NOUN', 'PRT', 'NOUN', 'VERB', 'VERB', 'X', 'ADP']\n"
     ]
    }
   ],
   "source": [
    "# tokens \n",
    "train_pos_tags = [pair[1] for pair in train_tagged_words]\n",
    "print(\"Train tags (first 10): \", train_pos_tags[:10])"
   ]
  },
  {
   "cell_type": "code",
   "execution_count": 10,
   "metadata": {},
   "outputs": [
    {
     "name": "stdout",
     "output_type": "stream",
     "text": [
      "Number of unique tags in train set:  12\n"
     ]
    }
   ],
   "source": [
    "train_unique_tags = set(train_pos_tags)\n",
    "train_unique_tags = sorted(train_unique_tags)\n",
    "num_unique_tags = len(train_unique_tags)\n",
    "print(\"Number of unique tags in train set: \", num_unique_tags)"
   ]
  },
  {
   "cell_type": "code",
   "execution_count": 11,
   "metadata": {},
   "outputs": [
    {
     "data": {
      "text/plain": [
       "Counter({'NOUN': 27423,\n",
       "         'ADP': 9345,\n",
       "         'PRT': 3059,\n",
       "         'VERB': 12885,\n",
       "         'X': 6276,\n",
       "         'DET': 8284,\n",
       "         '.': 11118,\n",
       "         'NUM': 3363,\n",
       "         'ADJ': 6077,\n",
       "         'CONJ': 2131,\n",
       "         'ADV': 3010,\n",
       "         'PRON': 2618})"
      ]
     },
     "execution_count": 11,
     "metadata": {},
     "output_type": "execute_result"
    }
   ],
   "source": [
    "tag_counts = Counter(train_pos_tags)\n",
    "tag_counts"
   ]
  },
  {
   "cell_type": "markdown",
   "metadata": {},
   "source": [
    "## BUILD THE VANILLA VITERBI BASED ON POS TAGGER"
   ]
  },
  {
   "cell_type": "markdown",
   "metadata": {},
   "source": [
    "Utility function to calculate the emission probability. Emission probability = (number of times a word with given tag present in the corpora/ number of time the given tag is present in the corpora)\n",
    "\n",
    "Below function returns a tuple containing:\n",
    "\n",
    "number of times a word with given tag present in the corpora\n",
    "number of time the given tag is present in the corpora"
   ]
  },
  {
   "cell_type": "code",
   "execution_count": 12,
   "metadata": {},
   "outputs": [],
   "source": [
    "# compute word given tag: Emission Probability\n",
    "def word_given_tag(word, tag, train_bag = train_tagged_words):\n",
    "    tag_list = [pair for pair in train_bag if pair[1]==tag]\n",
    "    count_tag = len(tag_list)\n",
    "    w_given_tag_list = [pair[0] for pair in tag_list if pair[0]==word]\n",
    "    count_w_given_tag = len(w_given_tag_list)\n",
    "    \n",
    "    return (count_w_given_tag, count_tag)"
   ]
  },
  {
   "cell_type": "markdown",
   "metadata": {},
   "source": [
    "Utility function to calculate the transition probability. Transition probability = (number of times tag T1 followed by tag T2/ number of times tag T1 present in the corpora)\n",
    "\n",
    "Below function returns a tuple containing:\n",
    "\n",
    "number of times tag T1 followed by tag T2\n",
    "number of times tag T1 present in the corpora"
   ]
  },
  {
   "cell_type": "code",
   "execution_count": 13,
   "metadata": {},
   "outputs": [],
   "source": [
    "# compute tag given tag: tag2(t2) given tag1 (t1), i.e. Transition Probability\n",
    "\n",
    "def t2_given_t1(t2, t1, train_bag = train_tagged_words):\n",
    "    tags = [pair[1] for pair in train_bag]\n",
    "    count_t1 = len([t for t in tags if t==t1])\n",
    "    count_t2_t1 = 0\n",
    "    for index in range(len(tags)-1):\n",
    "        if tags[index]==t1 and tags[index+1] == t2:\n",
    "            count_t2_t1 += 1\n",
    "    return (count_t2_t1, count_t1)"
   ]
  },
  {
   "cell_type": "code",
   "execution_count": 14,
   "metadata": {},
   "outputs": [],
   "source": [
    "# creating t x t transition matrix of tags\n",
    "# each column is t2, each row is t1\n",
    "# thus M(i, j) represents P(tj given ti)\n",
    "\n",
    "tags_matrix = np.zeros((num_unique_tags, num_unique_tags), dtype='float32')\n",
    "for i, t1 in enumerate(list(train_unique_tags)):\n",
    "    for j, t2 in enumerate(list(train_unique_tags)): \n",
    "        tags_matrix[i, j] = t2_given_t1(t2, t1)[0]/t2_given_t1(t2, t1)[1]"
   ]
  },
  {
   "cell_type": "code",
   "execution_count": 15,
   "metadata": {},
   "outputs": [
    {
     "data": {
      "text/html": [
       "<div>\n",
       "<style scoped>\n",
       "    .dataframe tbody tr th:only-of-type {\n",
       "        vertical-align: middle;\n",
       "    }\n",
       "\n",
       "    .dataframe tbody tr th {\n",
       "        vertical-align: top;\n",
       "    }\n",
       "\n",
       "    .dataframe thead th {\n",
       "        text-align: right;\n",
       "    }\n",
       "</style>\n",
       "<table border=\"1\" class=\"dataframe\">\n",
       "  <thead>\n",
       "    <tr style=\"text-align: right;\">\n",
       "      <th></th>\n",
       "      <th>.</th>\n",
       "      <th>ADJ</th>\n",
       "      <th>ADP</th>\n",
       "      <th>ADV</th>\n",
       "      <th>CONJ</th>\n",
       "      <th>DET</th>\n",
       "      <th>NOUN</th>\n",
       "      <th>NUM</th>\n",
       "      <th>PRON</th>\n",
       "      <th>PRT</th>\n",
       "      <th>VERB</th>\n",
       "      <th>X</th>\n",
       "    </tr>\n",
       "  </thead>\n",
       "  <tbody>\n",
       "    <tr>\n",
       "      <th>.</th>\n",
       "      <td>0.093812</td>\n",
       "      <td>0.044972</td>\n",
       "      <td>0.091114</td>\n",
       "      <td>0.052078</td>\n",
       "      <td>0.057924</td>\n",
       "      <td>0.173502</td>\n",
       "      <td>0.223152</td>\n",
       "      <td>0.080500</td>\n",
       "      <td>0.065389</td>\n",
       "      <td>0.002339</td>\n",
       "      <td>0.088505</td>\n",
       "      <td>0.026623</td>\n",
       "    </tr>\n",
       "    <tr>\n",
       "      <th>ADJ</th>\n",
       "      <td>0.065328</td>\n",
       "      <td>0.066645</td>\n",
       "      <td>0.078986</td>\n",
       "      <td>0.004608</td>\n",
       "      <td>0.016949</td>\n",
       "      <td>0.005101</td>\n",
       "      <td>0.696725</td>\n",
       "      <td>0.020405</td>\n",
       "      <td>0.000658</td>\n",
       "      <td>0.010861</td>\n",
       "      <td>0.012342</td>\n",
       "      <td>0.021392</td>\n",
       "    </tr>\n",
       "    <tr>\n",
       "      <th>ADP</th>\n",
       "      <td>0.039486</td>\n",
       "      <td>0.105297</td>\n",
       "      <td>0.017228</td>\n",
       "      <td>0.013162</td>\n",
       "      <td>0.000856</td>\n",
       "      <td>0.326378</td>\n",
       "      <td>0.321776</td>\n",
       "      <td>0.062921</td>\n",
       "      <td>0.069128</td>\n",
       "      <td>0.001498</td>\n",
       "      <td>0.008240</td>\n",
       "      <td>0.034029</td>\n",
       "    </tr>\n",
       "    <tr>\n",
       "      <th>ADV</th>\n",
       "      <td>0.136877</td>\n",
       "      <td>0.130233</td>\n",
       "      <td>0.119601</td>\n",
       "      <td>0.081063</td>\n",
       "      <td>0.006312</td>\n",
       "      <td>0.067110</td>\n",
       "      <td>0.030897</td>\n",
       "      <td>0.030565</td>\n",
       "      <td>0.015615</td>\n",
       "      <td>0.013621</td>\n",
       "      <td>0.344518</td>\n",
       "      <td>0.023588</td>\n",
       "    </tr>\n",
       "    <tr>\n",
       "      <th>CONJ</th>\n",
       "      <td>0.034256</td>\n",
       "      <td>0.116847</td>\n",
       "      <td>0.054435</td>\n",
       "      <td>0.055842</td>\n",
       "      <td>0.000469</td>\n",
       "      <td>0.121539</td>\n",
       "      <td>0.349132</td>\n",
       "      <td>0.042234</td>\n",
       "      <td>0.058658</td>\n",
       "      <td>0.004693</td>\n",
       "      <td>0.153918</td>\n",
       "      <td>0.007977</td>\n",
       "    </tr>\n",
       "    <tr>\n",
       "      <th>DET</th>\n",
       "      <td>0.017986</td>\n",
       "      <td>0.204973</td>\n",
       "      <td>0.009054</td>\n",
       "      <td>0.012313</td>\n",
       "      <td>0.000483</td>\n",
       "      <td>0.005311</td>\n",
       "      <td>0.640029</td>\n",
       "      <td>0.021970</td>\n",
       "      <td>0.003742</td>\n",
       "      <td>0.000241</td>\n",
       "      <td>0.038387</td>\n",
       "      <td>0.045509</td>\n",
       "    </tr>\n",
       "    <tr>\n",
       "      <th>NOUN</th>\n",
       "      <td>0.239179</td>\n",
       "      <td>0.012289</td>\n",
       "      <td>0.176275</td>\n",
       "      <td>0.016884</td>\n",
       "      <td>0.041936</td>\n",
       "      <td>0.013310</td>\n",
       "      <td>0.264632</td>\n",
       "      <td>0.009627</td>\n",
       "      <td>0.004923</td>\n",
       "      <td>0.043832</td>\n",
       "      <td>0.147978</td>\n",
       "      <td>0.029136</td>\n",
       "    </tr>\n",
       "    <tr>\n",
       "      <th>NUM</th>\n",
       "      <td>0.118347</td>\n",
       "      <td>0.034196</td>\n",
       "      <td>0.034790</td>\n",
       "      <td>0.002974</td>\n",
       "      <td>0.013381</td>\n",
       "      <td>0.003271</td>\n",
       "      <td>0.355338</td>\n",
       "      <td>0.184062</td>\n",
       "      <td>0.001487</td>\n",
       "      <td>0.027951</td>\n",
       "      <td>0.017544</td>\n",
       "      <td>0.206661</td>\n",
       "    </tr>\n",
       "    <tr>\n",
       "      <th>PRON</th>\n",
       "      <td>0.041253</td>\n",
       "      <td>0.074866</td>\n",
       "      <td>0.022918</td>\n",
       "      <td>0.033995</td>\n",
       "      <td>0.004966</td>\n",
       "      <td>0.009549</td>\n",
       "      <td>0.211230</td>\n",
       "      <td>0.007257</td>\n",
       "      <td>0.008021</td>\n",
       "      <td>0.012223</td>\n",
       "      <td>0.480901</td>\n",
       "      <td>0.092819</td>\n",
       "    </tr>\n",
       "    <tr>\n",
       "      <th>PRT</th>\n",
       "      <td>0.041517</td>\n",
       "      <td>0.086303</td>\n",
       "      <td>0.021576</td>\n",
       "      <td>0.010134</td>\n",
       "      <td>0.002288</td>\n",
       "      <td>0.100360</td>\n",
       "      <td>0.242563</td>\n",
       "      <td>0.058516</td>\n",
       "      <td>0.018960</td>\n",
       "      <td>0.001635</td>\n",
       "      <td>0.402746</td>\n",
       "      <td>0.013403</td>\n",
       "    </tr>\n",
       "    <tr>\n",
       "      <th>VERB</th>\n",
       "      <td>0.035312</td>\n",
       "      <td>0.064649</td>\n",
       "      <td>0.090493</td>\n",
       "      <td>0.082577</td>\n",
       "      <td>0.005588</td>\n",
       "      <td>0.133101</td>\n",
       "      <td>0.110904</td>\n",
       "      <td>0.022817</td>\n",
       "      <td>0.036244</td>\n",
       "      <td>0.031121</td>\n",
       "      <td>0.169189</td>\n",
       "      <td>0.218005</td>\n",
       "    </tr>\n",
       "    <tr>\n",
       "      <th>X</th>\n",
       "      <td>0.163799</td>\n",
       "      <td>0.016571</td>\n",
       "      <td>0.142925</td>\n",
       "      <td>0.025175</td>\n",
       "      <td>0.010357</td>\n",
       "      <td>0.055131</td>\n",
       "      <td>0.061345</td>\n",
       "      <td>0.002709</td>\n",
       "      <td>0.056087</td>\n",
       "      <td>0.185787</td>\n",
       "      <td>0.203633</td>\n",
       "      <td>0.076482</td>\n",
       "    </tr>\n",
       "  </tbody>\n",
       "</table>\n",
       "</div>"
      ],
      "text/plain": [
       "             .       ADJ       ADP       ADV      CONJ       DET      NOUN  \\\n",
       ".     0.093812  0.044972  0.091114  0.052078  0.057924  0.173502  0.223152   \n",
       "ADJ   0.065328  0.066645  0.078986  0.004608  0.016949  0.005101  0.696725   \n",
       "ADP   0.039486  0.105297  0.017228  0.013162  0.000856  0.326378  0.321776   \n",
       "ADV   0.136877  0.130233  0.119601  0.081063  0.006312  0.067110  0.030897   \n",
       "CONJ  0.034256  0.116847  0.054435  0.055842  0.000469  0.121539  0.349132   \n",
       "DET   0.017986  0.204973  0.009054  0.012313  0.000483  0.005311  0.640029   \n",
       "NOUN  0.239179  0.012289  0.176275  0.016884  0.041936  0.013310  0.264632   \n",
       "NUM   0.118347  0.034196  0.034790  0.002974  0.013381  0.003271  0.355338   \n",
       "PRON  0.041253  0.074866  0.022918  0.033995  0.004966  0.009549  0.211230   \n",
       "PRT   0.041517  0.086303  0.021576  0.010134  0.002288  0.100360  0.242563   \n",
       "VERB  0.035312  0.064649  0.090493  0.082577  0.005588  0.133101  0.110904   \n",
       "X     0.163799  0.016571  0.142925  0.025175  0.010357  0.055131  0.061345   \n",
       "\n",
       "           NUM      PRON       PRT      VERB         X  \n",
       ".     0.080500  0.065389  0.002339  0.088505  0.026623  \n",
       "ADJ   0.020405  0.000658  0.010861  0.012342  0.021392  \n",
       "ADP   0.062921  0.069128  0.001498  0.008240  0.034029  \n",
       "ADV   0.030565  0.015615  0.013621  0.344518  0.023588  \n",
       "CONJ  0.042234  0.058658  0.004693  0.153918  0.007977  \n",
       "DET   0.021970  0.003742  0.000241  0.038387  0.045509  \n",
       "NOUN  0.009627  0.004923  0.043832  0.147978  0.029136  \n",
       "NUM   0.184062  0.001487  0.027951  0.017544  0.206661  \n",
       "PRON  0.007257  0.008021  0.012223  0.480901  0.092819  \n",
       "PRT   0.058516  0.018960  0.001635  0.402746  0.013403  \n",
       "VERB  0.022817  0.036244  0.031121  0.169189  0.218005  \n",
       "X     0.002709  0.056087  0.185787  0.203633  0.076482  "
      ]
     },
     "execution_count": 15,
     "metadata": {},
     "output_type": "execute_result"
    }
   ],
   "source": [
    "# convert the matrix to a df for better readability\n",
    "tags_df = pd.DataFrame(tags_matrix, columns = list(train_unique_tags), index=list(train_unique_tags))\n",
    "tags_df"
   ]
  },
  {
   "cell_type": "markdown",
   "metadata": {},
   "source": [
    "### VANILLA VITERBI:"
   ]
  },
  {
   "cell_type": "markdown",
   "metadata": {},
   "source": [
    "Used the Vanilla Viterbi implementation given as part of \"Session2 - Syntactic Processing\" with some modification to reduce the computation complexity. In the implementation given in \"Session2 - Syntactic Processing\" there are two times the emission probability gets calculated. Which is unncessary, hence in this implementation its computed only once."
   ]
  },
  {
   "cell_type": "code",
   "execution_count": 16,
   "metadata": {},
   "outputs": [],
   "source": [
    "# Viterbi Heuristic\n",
    "def Viterbi(words, train_bag = train_tagged_words):\n",
    "    # init state array to empty - state array holds the POS tag for words\n",
    "    # T - Is the list of unique tags\n",
    "    state = []\n",
    "    T = list(set([pair[1] for pair in train_bag]))\n",
    "    T = sorted(T)\n",
    "    for key, word in enumerate(words):\n",
    "        #initialise list of probability column for a given observation\n",
    "        p = [] \n",
    "        for tag in T:\n",
    "            if key == 0:\n",
    "                transition_p = tags_df.loc['.', tag]\n",
    "            else:\n",
    "                transition_p = tags_df.loc[state[-1], tag]\n",
    "                \n",
    "            # compute emission and state probabilities\n",
    "            proba_pair = word_given_tag(words[key], tag)\n",
    "            emission_p = proba_pair[0]/proba_pair[1]\n",
    "            state_probability = emission_p * transition_p    \n",
    "            p.append(state_probability)\n",
    "            \n",
    "        pmax = max(p)\n",
    "        # getting state for which probability is maximum\n",
    "        state_max = T[p.index(pmax, 0)] \n",
    "        state.append(state_max)\n",
    "    return list(zip(words, state))"
   ]
  },
  {
   "cell_type": "markdown",
   "metadata": {},
   "source": [
    "## SOLVE THE PROBLEM OF UNKNOWN WORDS:"
   ]
  },
  {
   "cell_type": "markdown",
   "metadata": {},
   "source": [
    "### MODIFICATION 1: ONLY CONSIDERING TRANSITION PROBABILITY FOR UNKNOWN WORDS"
   ]
  },
  {
   "cell_type": "markdown",
   "metadata": {},
   "source": [
    "For unknown words, ie if the word is not present in training vocabulary, then its emission probability will be 0, as the word count will be zero.\n",
    "\n",
    "Emission probability = (number of times a give word with given tag present in the corpora/ number of time the given tag is present in the corpora)\n",
    "\n",
    "Hence as per the hints given, we can only consider the transition probability for POS tagging for unknown words. Vanilla Viterbi method will be modified to check whether the word exists in training corpora, if it exists then only calculate transition and emission probability. Otherwise calculate only transition probability (This way avoid one morecomputation heavy step)"
   ]
  },
  {
   "cell_type": "code",
   "execution_count": 17,
   "metadata": {},
   "outputs": [],
   "source": [
    "# Viterbi Heuristic\n",
    "def Viterbi_with_transition_proba(words, train_bag = train_tagged_words):\n",
    "    state = []\n",
    "    T = list(set([pair[1] for pair in train_bag]))\n",
    "    T = sorted(T)\n",
    "    for key, word in enumerate(words):\n",
    "        #initialise list of probability column for a given observation\n",
    "        p = [] \n",
    "        for tag in T:\n",
    "            if key == 0:\n",
    "                transition_p = tags_df.loc['.', tag]\n",
    "            else:\n",
    "                transition_p = tags_df.loc[state[-1], tag]\n",
    "                \n",
    "            # compute emission and state probabilities\n",
    "            # check whether the word exists in training corpora, \n",
    "            # if it exists then only calculate transition and emission probability. \n",
    "            # Otherwise calculate only transition probability\n",
    "            if word in train_words:\n",
    "                proba_pair = word_given_tag(words[key], tag)\n",
    "                emission_p = proba_pair[0]/proba_pair[1]\n",
    "                state_probability = emission_p * transition_p\n",
    "            else:\n",
    "                state_probability = transition_p\n",
    "            p.append(state_probability)\n",
    "            \n",
    "        pmax = max(p)\n",
    "        # getting state for which probability is maximum\n",
    "        state_max = T[p.index(pmax, 0)] \n",
    "        state.append(state_max)\n",
    "    return list(zip(words, state))"
   ]
  },
  {
   "cell_type": "markdown",
   "metadata": {},
   "source": [
    "### MODIFICATION 2: VITERBI ALGORITHM WITH REGEX TAGGER BACKOFF"
   ]
  },
  {
   "cell_type": "markdown",
   "metadata": {},
   "source": [
    "As we have already noted there are some visible pattern in training set:\n",
    "    \n",
    "    Anuything with * is tagged as X\n",
    "    Starting with a numeric 1, 11.0, 12,345, 7-8 all are tagged as NUM\n",
    "    Any two words joined with - is tagged as ADJ\n",
    "    All puctuations with .\n",
    "    \n",
    "Along with this we will apply general english ruleset as regex pattern. Any word which does not match with any of the rule will be tagged as UNK. Those words will be tagged based on transition probability.\n",
    "\n",
    "English generic ruleset courtesy: \n",
    "https://www.nltk.org/book/ch05.html\n",
    "\n",
    "https://www.kaggle.com/saxinou/nlp-02-categorizing-and-tagging-words"
   ]
  },
  {
   "cell_type": "code",
   "execution_count": 18,
   "metadata": {},
   "outputs": [],
   "source": [
    "patterns = [\n",
    "    (r'^\\*+[*\\w-]*', 'X'),                                          # *[A-z] - X\n",
    "    (r'^[0-9.,-]+[A-z]*$', 'NUM'),                                  # 9.00, 9,000, 9-8\n",
    "    (r'^([a-z]+(-[\\w]+)+)+$', 'ADJ'),                               # abc - xyz - ADJ\n",
    "    (r'^[A-Z]+[a-z]*.*$', 'NOUN'),                                  # Starting with caps, All Caps etc\n",
    "    (r'^[A-z]+s$', 'NOUN'),\n",
    "    (r'^[A-z]+ing$', 'VERB'),                                       # gerunds\n",
    "    (r'^[A-z]+ed$', 'VERB'),                                        # simple past\n",
    "    (r'^[A-z]+es$', 'VERB'), \n",
    "    (r'^\\'s$', 'VERB'),   \n",
    "    (r'^[A-z]+\\'s$', 'NOUN'),               \n",
    "    (r'(The|the|A|a|An|an)$', 'DET'),                               # Determinants \n",
    "    (r'^[A-z]+able$', 'ADJ'),                                       # adjectives \n",
    "    (r'^[A-z]+ness$', 'NOUN'),                                      # nouns formed from adjectives\n",
    "    (r'^[A-z]+ly$', 'ADV'),                           \n",
    "    (r'(He|he|She|she|It|it|I|me|Me|You|you)$', 'PRON'), \n",
    "    (r'(His|his|Her|her|Its|its)$', 'PRON'),      \n",
    "    (r'(My|my|Your|your|Yours|yours)$', 'PRON'),    \n",
    "    (r'(Myself|myself|Yourself|yourself|herself|himself)$', 'PRON'), \n",
    "    (r'(themselves|ourselves)$', 'PRON'),                           # possesive\n",
    "    (r'(on|On|in|In|at|At|since|Since)$', 'ADP'),                   # time prepopsitions\n",
    "    (r'(for|For|ago|Ago|before|Before)$', 'ADP'),                   # time prepopsitions\n",
    "    (r'(till|Till|until|Until)$', 'ADP'),                           # time prepopsitions\n",
    "    (r'(by|By|beside|Beside)$', 'ADP'),                             # space prepopsitions\n",
    "    (r'(under|Under|below|Below)$', 'ADP'),                         # space prepopsitions\n",
    "    (r'(up|Up|down|Down)$', 'ADP'),                                 # space prepopsitions\n",
    "    (r'(over|Over|above|Above)$', 'ADP'),                           # space prepopsitions\n",
    "    (r'(across|Across|through|Through)$', 'ADP'),                   # space prepopsitions\n",
    "    (r'(into|Into|towards|Towards)$', 'ADP'),                       # space prepopsitions\n",
    "    (r'(onto|Onto|from|From)$', 'ADP'),                             # space prepopsitions    \n",
    "    (r'^\\.+$','.'), (r'^\\,+$',','), (r'^\\?+$','.'),                 # punctuations\n",
    "    (r'^\\'+$','.'), (r'^\\\"+$',','), (r'^\\`+$','.'),                 # punctuations\n",
    "    (r'.*', 'UNK')                                                  # UNKNOWN (default)\n",
    "    ]\n"
   ]
  },
  {
   "cell_type": "markdown",
   "metadata": {},
   "source": [
    "Regex tagger based on the above ruleset, this will serve as the backoff for modified viterbi"
   ]
  },
  {
   "cell_type": "code",
   "execution_count": 19,
   "metadata": {},
   "outputs": [],
   "source": [
    "regex_tagger = nltk.RegexpTagger(patterns)"
   ]
  },
  {
   "cell_type": "markdown",
   "metadata": {},
   "source": [
    "If the emission probability is 0, ie word is unknown, then the regex based tagger will be used to tag the POS. But if regex based tagger fails to tag we will use the transition probability alone for tagging."
   ]
  },
  {
   "cell_type": "code",
   "execution_count": 20,
   "metadata": {},
   "outputs": [],
   "source": [
    "# Viterbi Heuristic\n",
    "def Viterbi_with_regex_backoff(words, train_bag = train_tagged_words):\n",
    "    state = []\n",
    "    T = list(set([pair[1] for pair in train_bag]))\n",
    "    T = sorted(T)\n",
    "    for key, word in enumerate(words):\n",
    "        #initialise list of probability column for a given observation\n",
    "        p = [] \n",
    "        for tag in T:\n",
    "            if key == 0:\n",
    "                transition_p = tags_df.loc['.', tag]\n",
    "            else:\n",
    "                transition_p = tags_df.loc[state[-1], tag]\n",
    "                \n",
    "            # compute emission and state probabilities\n",
    "            if word in train_words:\n",
    "                proba_pair = word_given_tag(words[key], tag)\n",
    "                emission_p = proba_pair[0]/proba_pair[1]\n",
    "                state_probability = emission_p * transition_p\n",
    "            else:\n",
    "                state_probability = transition_p\n",
    "            p.append(state_probability)\n",
    "\n",
    "        if word in train_words:\n",
    "            pmax = max(p)\n",
    "            # getting state for which probability is maximum\n",
    "            state_max = T[p.index(pmax, 0)] \n",
    "        else:\n",
    "            state_max = regex_tagger.tag([word])[0][1]\n",
    "            if state_max == \"UNK\":\n",
    "                pmax = max(p)\n",
    "                # getting state for which probability is maximum\n",
    "                state_max = T[p.index(pmax)]\n",
    "        state.append(state_max)\n",
    "    return list(zip(words, state))"
   ]
  },
  {
   "cell_type": "markdown",
   "metadata": {},
   "source": [
    "## EVALUATING TAGGING ACCURACY"
   ]
  },
  {
   "cell_type": "markdown",
   "metadata": {},
   "source": [
    "**NOTE: THE ENTIRE BELOW SECTION MAY TAKE 1HR to 1.5HR MINIMUM**\n",
    "\n",
    "Training set on all 3 different algos, ie Vanilla viterbi, Viterbi with Modification 1 and 2."
   ]
  },
  {
   "cell_type": "markdown",
   "metadata": {},
   "source": [
    "Let us get the tagged tuple, as well as words from the test set for feeding on to the viterbi models."
   ]
  },
  {
   "cell_type": "code",
   "execution_count": 21,
   "metadata": {},
   "outputs": [
    {
     "data": {
      "text/plain": [
       "5087"
      ]
     },
     "execution_count": 21,
     "metadata": {},
     "output_type": "execute_result"
    }
   ],
   "source": [
    "# list of tagged words from test set (5% sentence)\n",
    "test_run_base = [tup for sent in test_set for tup in sent]\n",
    "# list of untagged words\n",
    "test_tagged_words = [tup[0] for sent in test_set for tup in sent]\n",
    "len(test_tagged_words)"
   ]
  },
  {
   "cell_type": "markdown",
   "metadata": {},
   "source": [
    "### 1. VANILLA VITERBI ON TEST SET (CREATED BY TRAIN TEST SPLIT):"
   ]
  },
  {
   "cell_type": "code",
   "execution_count": 22,
   "metadata": {},
   "outputs": [
    {
     "name": "stdout",
     "output_type": "stream",
     "text": [
      "Time taken in seconds:  798.2135455608368\n"
     ]
    }
   ],
   "source": [
    "# tagging the test sentences\n",
    "start = time.time()\n",
    "tagged_seq_vanilla_viterbi = Viterbi(test_tagged_words)\n",
    "end = time.time()\n",
    "difference = end-start\n",
    "\n",
    "print(\"Time taken in seconds: \", difference)"
   ]
  },
  {
   "cell_type": "code",
   "execution_count": 23,
   "metadata": {},
   "outputs": [
    {
     "name": "stdout",
     "output_type": "stream",
     "text": [
      "Number of words correctly tagged:  4649\n",
      "Total Number of words:  5087\n",
      "Accuracy:  0.9138981718104974\n"
     ]
    }
   ],
   "source": [
    "test_check_vanilla = [i for i, j in zip(tagged_seq_vanilla_viterbi, test_run_base) if i == j] \n",
    "print(\"Number of words correctly tagged: \", len(test_check_vanilla))\n",
    "print(\"Total Number of words: \", len(tagged_seq_vanilla_viterbi))\n",
    "accuracy = len(test_check_vanilla)/len(tagged_seq_vanilla_viterbi)\n",
    "print(\"Accuracy: \", accuracy)"
   ]
  },
  {
   "cell_type": "markdown",
   "metadata": {},
   "source": [
    "**Below are incorrectly tagged words by Vanilla Viterbi**"
   ]
  },
  {
   "cell_type": "code",
   "execution_count": 24,
   "metadata": {},
   "outputs": [
    {
     "data": {
      "text/plain": [
       "[(('trade', 'VERB'), ('trade', 'NOUN')),\n",
       " (('Overseas', '.'), ('Overseas', 'NOUN')),\n",
       " (('Private', 'ADJ'), ('Private', 'NOUN')),\n",
       " (('pre-1917', '.'), ('pre-1917', 'ADJ')),\n",
       " (('Unemployment', '.'), ('Unemployment', 'NOUN')),\n",
       " (('purchasing', 'NOUN'), ('purchasing', 'VERB')),\n",
       " (('paycheck', '.'), ('paycheck', 'NOUN')),\n",
       " (('reasonably', '.'), ('reasonably', 'ADV')),\n",
       " (('though', 'ADP'), ('though', 'ADV')),\n",
       " (('close', 'NOUN'), ('close', 'ADJ')),\n",
       " (('more', 'ADV'), ('more', 'ADJ')),\n",
       " (('Funded', '.'), ('Funded', 'VERB')),\n",
       " (('Tokio', '.'), ('Tokio', 'NOUN')),\n",
       " (('protocols', '.'), ('protocols', 'NOUN')),\n",
       " (('preventative', '.'), ('preventative', 'ADJ')),\n",
       " (('existed', '.'), ('existed', 'VERB')),\n",
       " (('20.5', '.'), ('20.5', 'NUM')),\n",
       " (('polarized', '.'), ('polarized', 'VERB')),\n",
       " (('so', 'ADV'), ('so', 'ADP')),\n",
       " (('exists', '.'), ('exists', 'VERB')),\n",
       " (('middle', 'NOUN'), ('middle', 'ADJ')),\n",
       " (('Though', '.'), ('Though', 'ADP')),\n",
       " (('acquirers', '.'), ('acquirers', 'NOUN')),\n",
       " (('noticed', '.'), ('noticed', 'VERB')),\n",
       " (('154.2', '.'), ('154.2', 'NUM')),\n",
       " (('chalk', '.'), ('chalk', 'NOUN')),\n",
       " (('first', 'ADJ'), ('first', 'ADV')),\n",
       " (('touched', '.'), ('touched', 'VERB')),\n",
       " (('slate', '.'), ('slate', 'NOUN')),\n",
       " (('schoolchildren', '.'), ('schoolchildren', 'NOUN')),\n",
       " (('Catch-22', '.'), ('Catch-22', 'NOUN')),\n",
       " (('cross-border', '.'), ('cross-border', 'ADJ')),\n",
       " (('emigres', '.'), ('emigres', 'NOUN')),\n",
       " (('*T*-133', '.'), ('*T*-133', 'X')),\n",
       " (('checking', 'NOUN'), ('checking', 'VERB')),\n",
       " (('safe', '.'), ('safe', 'ADJ')),\n",
       " (('plus', 'CONJ'), ('plus', 'ADV')),\n",
       " (('apologizing', '.'), ('apologizing', 'VERB')),\n",
       " (('indulging', '.'), ('indulging', 'VERB')),\n",
       " (('1953', '.'), ('1953', 'NUM')),\n",
       " (('1955', '.'), ('1955', 'NUM')),\n",
       " (('homeless', 'ADJ'), ('homeless', 'NOUN')),\n",
       " (('pre-existing', '.'), ('pre-existing', 'ADJ')),\n",
       " (('addiction', '.'), ('addiction', 'NOUN')),\n",
       " (('1,200', '.'), ('1,200', 'NUM')),\n",
       " (('Mogavero', '.'), ('Mogavero', 'NOUN')),\n",
       " (('Piscataway', '.'), ('Piscataway', 'NOUN')),\n",
       " (('up', 'ADV'), ('up', 'PRT')),\n",
       " (('American-style', '.'), ('American-style', 'ADJ')),\n",
       " (('most', 'ADJ'), ('most', 'ADV')),\n",
       " (('that', 'ADP'), ('that', 'DET')),\n",
       " (('*T*-253', '.'), ('*T*-253', 'X')),\n",
       " (('exploit', '.'), ('exploit', 'VERB')),\n",
       " (('reds', '.'), ('reds', 'NOUN')),\n",
       " (('Rhone', '.'), ('Rhone', 'NOUN')),\n",
       " (('as', 'ADP'), ('as', 'ADV')),\n",
       " (('133.7', '.'), ('133.7', 'NUM')),\n",
       " (('94', '.'), ('94', 'NUM')),\n",
       " (('test', 'VERB'), ('test', 'NOUN')),\n",
       " (('out', 'PRT'), ('out', 'ADV')),\n",
       " (('copied', '.'), ('copied', 'VERB')),\n",
       " (('octogenarians', '.'), ('octogenarians', 'NOUN')),\n",
       " (('*T*-222', '.'), ('*T*-222', 'X')),\n",
       " (('sometimes-exhausting', '.'), ('sometimes-exhausting', 'ADJ')),\n",
       " (('sounding', '.'), ('sounding', 'VERB')),\n",
       " (('belfries', '.'), ('belfries', 'NOUN')),\n",
       " (('Anglia', '.'), ('Anglia', 'NOUN')),\n",
       " (('manmade-fiber', '.'), ('manmade-fiber', 'ADJ')),\n",
       " (('405', '.'), ('405', 'NUM')),\n",
       " (('*T*-102', '.'), ('*T*-102', 'X')),\n",
       " (('more', 'ADV'), ('more', 'ADJ')),\n",
       " (('Communication', '.'), ('Communication', 'NOUN')),\n",
       " (('importer', '.'), ('importer', 'NOUN')),\n",
       " (('last', 'ADJ'), ('last', 'VERB')),\n",
       " (('develops', '.'), ('develops', 'VERB')),\n",
       " (('markets', 'NOUN'), ('markets', 'VERB')),\n",
       " (('low-cost', '.'), ('low-cost', 'ADJ')),\n",
       " (('waived', '.'), ('waived', 'VERB')),\n",
       " (('supplemental', '.'), ('supplemental', 'ADJ')),\n",
       " (('anti-drug', '.'), ('anti-drug', 'ADJ')),\n",
       " (('bearing', 'VERB'), ('bearing', 'NOUN')),\n",
       " (('work', 'VERB'), ('work', 'NOUN')),\n",
       " (('force', 'VERB'), ('force', 'NOUN')),\n",
       " (('that', 'DET'), ('that', 'ADP')),\n",
       " (('principal', 'NOUN'), ('principal', 'ADJ')),\n",
       " (('red-flag', '.'), ('red-flag', 'VERB')),\n",
       " (('*T*-128', '.'), ('*T*-128', 'X')),\n",
       " (('*T*-129', '.'), ('*T*-129', 'X')),\n",
       " (('computer-generated', '.'), ('computer-generated', 'ADJ')),\n",
       " (('certified', '.'), ('certified', 'ADJ')),\n",
       " (('mail', '.'), ('mail', 'NOUN')),\n",
       " (('veto', 'NOUN'), ('veto', 'VERB')),\n",
       " (('containing', '.'), ('containing', 'VERB')),\n",
       " (('alternatively', '.'), ('alternatively', 'ADV')),\n",
       " (('sign', 'NOUN'), ('sign', 'VERB')),\n",
       " (('intrusions', '.'), ('intrusions', 'NOUN')),\n",
       " (('executive', 'NOUN'), ('executive', 'ADJ')),\n",
       " (('void', '.'), ('void', 'ADJ')),\n",
       " (('Sloan', '.'), ('Sloan', 'NOUN')),\n",
       " (('American', 'NOUN'), ('American', 'ADJ')),\n",
       " (('43.875', '.'), ('43.875', 'NUM')),\n",
       " (('mind', 'NOUN'), ('mind', 'VERB')),\n",
       " (('operating', 'NOUN'), ('operating', 'VERB')),\n",
       " (('shopped', '.'), ('shopped', 'VERB')),\n",
       " (('that', 'ADP'), ('that', 'DET')),\n",
       " (('helps', '.'), ('helps', 'VERB')),\n",
       " (('reluctance', '.'), ('reluctance', 'NOUN')),\n",
       " (('lobbies', '.'), ('lobbies', 'NOUN')),\n",
       " (('average', 'ADJ'), ('average', 'NOUN')),\n",
       " (('133.8', '.'), ('133.8', 'NUM')),\n",
       " (('2.47', '.'), ('2.47', 'NUM')),\n",
       " (('7.4', '.'), ('7.4', 'NUM')),\n",
       " (('2.30', '.'), ('2.30', 'NUM')),\n",
       " (('modification', '.'), ('modification', 'NOUN')),\n",
       " (('*-130', '.'), ('*-130', 'X')),\n",
       " (('opening', 'NOUN'), ('opening', 'VERB')),\n",
       " (('13.625', '.'), ('13.625', 'NUM')),\n",
       " (('out', 'PRT'), ('out', 'ADP')),\n",
       " (('that', 'ADP'), ('that', 'DET')),\n",
       " (('wield', '.'), ('wield', 'VERB')),\n",
       " (('Muzzling', '.'), ('Muzzling', 'ADJ')),\n",
       " (('blindfold', '.'), ('blindfold', 'NOUN')),\n",
       " (('executive', 'NOUN'), ('executive', 'ADJ')),\n",
       " (('recommending', '.'), ('recommending', 'VERB')),\n",
       " (('Anything', '.'), ('Anything', 'NOUN')),\n",
       " (('about', 'ADP'), ('about', 'PRT')),\n",
       " (('quips', '.'), ('quips', 'VERB')),\n",
       " (('Northampton', '.'), ('Northampton', 'NOUN')),\n",
       " (('protein', '.'), ('protein', 'NOUN')),\n",
       " (('Fundamentalists', '.'), ('Fundamentalists', 'NOUN')),\n",
       " (('air', 'VERB'), ('air', 'NOUN')),\n",
       " (('bags', '.'), ('bags', 'NOUN')),\n",
       " (('front', 'NOUN'), ('front', 'ADJ')),\n",
       " (('side-crash', '.'), ('side-crash', 'ADJ')),\n",
       " (('alleged', 'ADJ'), ('alleged', 'VERB')),\n",
       " (('workplace', '.'), ('workplace', 'NOUN')),\n",
       " (('word-processing', '.'), ('word-processing', 'NOUN')),\n",
       " (('Legend', '.'), ('Legend', 'NOUN')),\n",
       " (('multinational', '.'), ('multinational', 'ADJ')),\n",
       " (('Iran-Contra', '.'), ('Iran-Contra', 'NOUN')),\n",
       " (('wheel-loader', '.'), ('wheel-loader', 'ADJ')),\n",
       " (('Heidelberg', '.'), ('Heidelberg', 'NOUN')),\n",
       " (('drink', 'NOUN'), ('drink', 'VERB')),\n",
       " (('desultory', '.'), ('desultory', 'ADJ')),\n",
       " (('declines', 'VERB'), ('declines', 'NOUN')),\n",
       " (('distinguished', '.'), ('distinguished', 'VERB')),\n",
       " (('herself', '.'), ('herself', 'PRON')),\n",
       " (('approaches', '.'), ('approaches', 'NOUN')),\n",
       " (('forcing', 'VERB'), ('forcing', 'ADJ')),\n",
       " (('pair', '.'), ('pair', 'VERB')),\n",
       " (('up', 'ADV'), ('up', 'PRT')),\n",
       " (('college-bowl', '.'), ('college-bowl', 'NOUN')),\n",
       " (('competitions', '.'), ('competitions', 'NOUN')),\n",
       " (('coffee', '.'), ('coffee', 'NOUN')),\n",
       " (('spurring', '.'), ('spurring', 'VERB')),\n",
       " (('covers', 'VERB'), ('covers', 'NOUN')),\n",
       " (('Velcro', '.'), ('Velcro', 'NOUN')),\n",
       " (('that', 'ADP'), ('that', 'DET')),\n",
       " (('pins', 'VERB'), ('pins', 'NOUN')),\n",
       " (('estimates', 'VERB'), ('estimates', 'NOUN')),\n",
       " (('in', 'ADP'), ('in', 'PRT')),\n",
       " (('finance', 'NOUN'), ('finance', 'VERB')),\n",
       " (('non-core', '.'), ('non-core', 'ADJ')),\n",
       " (('off', 'PRT'), ('off', 'ADP')),\n",
       " (('platinum', '.'), ('platinum', 'NOUN')),\n",
       " (('more', 'ADV'), ('more', 'ADJ')),\n",
       " (('appropriated', '.'), ('appropriated', 'VERB')),\n",
       " (('twice', '.'), ('twice', 'ADV')),\n",
       " (('as', 'ADP'), ('as', 'ADV')),\n",
       " (('Johnson-era', '.'), ('Johnson-era', 'NOUN')),\n",
       " (('that', 'ADP'), ('that', 'DET')),\n",
       " (('mandates', '.'), ('mandates', 'VERB')),\n",
       " (('noncompetitively', '.'), ('noncompetitively', 'ADV')),\n",
       " (('concerned', '.'), ('concerned', 'VERB')),\n",
       " (('Wilfred', '.'), ('Wilfred', 'NOUN')),\n",
       " (('Corrigan', '.'), ('Corrigan', 'NOUN')),\n",
       " (('chief', 'NOUN'), ('chief', 'ADJ')),\n",
       " (('executive', 'NOUN'), ('executive', 'ADJ')),\n",
       " (('up', 'ADV'), ('up', 'PRT')),\n",
       " (('derivatives', '.'), ('derivatives', 'NOUN')),\n",
       " (('as', 'ADP'), ('as', 'ADV')),\n",
       " (('underlying', 'ADJ'), ('underlying', 'VERB')),\n",
       " (('more', 'ADV'), ('more', 'ADJ')),\n",
       " (('binders', '.'), ('binders', 'NOUN')),\n",
       " (('93.9', '.'), ('93.9', 'NUM')),\n",
       " (('1.19', '.'), ('1.19', 'NUM')),\n",
       " (('92.9', '.'), ('92.9', 'NUM')),\n",
       " (('1.18', '.'), ('1.18', 'NUM')),\n",
       " (('earlier', 'ADV'), ('earlier', 'ADJ')),\n",
       " (('Demand', '.'), ('Demand', 'NOUN')),\n",
       " (('due', 'ADJ'), ('due', 'ADV')),\n",
       " (('overseas', 'ADV'), ('overseas', 'ADJ')),\n",
       " (('apparent', '.'), ('apparent', 'ADJ')),\n",
       " (('slowing', 'VERB'), ('slowing', 'NOUN')),\n",
       " (('Berson', '.'), ('Berson', 'NOUN')),\n",
       " (('single-family', 'NOUN'), ('single-family', 'ADJ')),\n",
       " (('estimate', 'NOUN'), ('estimate', 'VERB')),\n",
       " (('razor-thin', '.'), ('razor-thin', 'ADJ')),\n",
       " (('fledgling', '.'), ('fledgling', 'NOUN')),\n",
       " (('depend', '.'), ('depend', 'VERB')),\n",
       " (('longevity', '.'), ('longevity', 'NOUN')),\n",
       " (('rarely', '.'), ('rarely', 'ADV')),\n",
       " (('acted', '.'), ('acted', 'VERB')),\n",
       " (('deplorable', '.'), ('deplorable', 'ADJ')),\n",
       " (('brushed', '.'), ('brushed', 'VERB')),\n",
       " (('off', 'ADP'), ('off', 'PRT')),\n",
       " (('renewing', '.'), ('renewing', 'VERB')),\n",
       " (('insurgents', '.'), ('insurgents', 'NOUN')),\n",
       " (('total', 'VERB'), ('total', 'ADJ')),\n",
       " (('topped', '.'), ('topped', 'VERB')),\n",
       " (('16.5', '.'), ('16.5', 'NUM')),\n",
       " (('that', 'ADP'), ('that', 'DET')),\n",
       " (('technically', '.'), ('technically', 'ADV')),\n",
       " (('limitation', '.'), ('limitation', 'NOUN')),\n",
       " (('leash', '.'), ('leash', 'NOUN')),\n",
       " (('No', 'DET'), ('No', 'ADV')),\n",
       " (('triple', '.'), ('triple', 'ADV')),\n",
       " (('Washington-based', '.'), ('Washington-based', 'ADJ')),\n",
       " (('sue', '.'), ('sue', 'VERB')),\n",
       " (('777', '.'), ('777', 'NUM')),\n",
       " (('Palestinian', 'ADJ'), ('Palestinian', 'NOUN')),\n",
       " (('first', 'ADJ'), ('first', 'ADV')),\n",
       " (('1.20', '.'), ('1.20', 'NUM')),\n",
       " (('1.14', '.'), ('1.14', 'NUM')),\n",
       " (('skill', '.'), ('skill', 'NOUN')),\n",
       " (('2163.2', '.'), ('2163.2', 'NUM')),\n",
       " (('half-hour', 'ADJ'), ('half-hour', 'NOUN')),\n",
       " (('further', 'ADJ'), ('further', 'ADV')),\n",
       " (('load', 'NOUN'), ('load', 'VERB')),\n",
       " (('dreamed', '.'), ('dreamed', 'VERB')),\n",
       " (('up', 'ADV'), ('up', 'PRT')),\n",
       " (('improbable', '.'), ('improbable', 'ADJ')),\n",
       " (('shop', '.'), ('shop', 'NOUN')),\n",
       " (('high-rise', '.'), ('high-rise', 'ADJ')),\n",
       " (('2-8', '.'), ('2-8', 'NUM')),\n",
       " (('ago', 'ADP'), ('ago', 'ADV')),\n",
       " (('A.C.', '.'), ('A.C.', 'NOUN')),\n",
       " (('Nielsen', '.'), ('Nielsen', 'NOUN')),\n",
       " (('Having', '.'), ('Having', 'VERB')),\n",
       " (('supportive', '.'), ('supportive', 'ADJ')),\n",
       " (('element', '.'), ('element', 'NOUN')),\n",
       " (('Breeden', '.'), ('Breeden', 'NOUN')),\n",
       " (('breakers', '.'), ('breakers', 'NOUN')),\n",
       " (('*T*-215', '.'), ('*T*-215', 'X')),\n",
       " (('87.5', '.'), ('87.5', 'NUM')),\n",
       " (('38.875', '.'), ('38.875', 'NUM')),\n",
       " (('noodles', '.'), ('noodles', 'NOUN')),\n",
       " (('pre-cooked', '.'), ('pre-cooked', 'ADJ')),\n",
       " (('pasta', '.'), ('pasta', 'NOUN')),\n",
       " (('Clive', '.'), ('Clive', 'NOUN')),\n",
       " (('about', 'ADP'), ('about', 'ADV')),\n",
       " (('Smaby', '.'), ('Smaby', 'NOUN')),\n",
       " (('Smaby', '.'), ('Smaby', 'NOUN')),\n",
       " (('properties', '.'), ('properties', 'NOUN')),\n",
       " (('INTER-TEL', '.'), ('INTER-TEL', 'NOUN')),\n",
       " (('cosmetic', 'NOUN'), ('cosmetic', 'ADJ')),\n",
       " (('Gelles', '.'), ('Gelles', 'NOUN')),\n",
       " (('Wertheim', '.'), ('Wertheim', 'NOUN')),\n",
       " (('Schroder', '.'), ('Schroder', 'NOUN')),\n",
       " (('entertaining', '.'), ('entertaining', 'ADJ')),\n",
       " (('means', 'NOUN'), ('means', 'VERB')),\n",
       " (('confrontational', '.'), ('confrontational', 'ADJ')),\n",
       " (('refunded', '.'), ('refunded', 'VERB')),\n",
       " (('shareholder-rights', '.'), ('shareholder-rights', 'ADJ')),\n",
       " (('unwanted', '.'), ('unwanted', 'ADJ')),\n",
       " (('suitors', '.'), ('suitors', 'NOUN')),\n",
       " (('bothered', '.'), ('bothered', 'VERB')),\n",
       " (('inverse', '.'), ('inverse', 'NOUN')),\n",
       " (('that', 'DET'), ('that', 'ADP')),\n",
       " (('66.5', '.'), ('66.5', 'NUM')),\n",
       " (('affecting', '.'), ('affecting', 'VERB')),\n",
       " (('Hazell', '.'), ('Hazell', 'NOUN')),\n",
       " (('auditor', '.'), ('auditor', 'NOUN')),\n",
       " (('vested', '.'), ('vested', 'VERB')),\n",
       " (('seconds', '.'), ('seconds', 'NOUN')),\n",
       " (('low-tech', '.'), ('low-tech', 'ADJ')),\n",
       " (('catch', 'NOUN'), ('catch', 'VERB')),\n",
       " (('fancy', '.'), ('fancy', 'NOUN')),\n",
       " (('strategic', '.'), ('strategic', 'ADJ')),\n",
       " (('servicing', 'NOUN'), ('servicing', 'VERB')),\n",
       " (('arise', '.'), ('arise', 'VERB')),\n",
       " (('buy', 'VERB'), ('buy', 'NOUN')),\n",
       " (('sell', 'VERB'), ('sell', 'NOUN')),\n",
       " (('that', 'ADP'), ('that', 'DET')),\n",
       " (('up', 'ADV'), ('up', 'PRT')),\n",
       " (('cumbersome', '.'), ('cumbersome', 'ADJ')),\n",
       " (('stock-price', '.'), ('stock-price', 'NOUN')),\n",
       " (('day-care', '.'), ('day-care', 'ADJ')),\n",
       " (('that', 'ADP'), ('that', 'DET')),\n",
       " (('spurned', '.'), ('spurned', 'VERB')),\n",
       " (('pressed', '.'), ('pressed', 'VERB')),\n",
       " (('implemented', '.'), ('implemented', 'VERB')),\n",
       " (('1', 'NUM'), ('1', 'X')),\n",
       " (('2', 'NUM'), ('2', 'X')),\n",
       " (('focus', 'VERB'), ('focus', 'NOUN')),\n",
       " (('3', 'NUM'), ('3', 'X')),\n",
       " (('playing', 'VERB'), ('playing', 'NOUN')),\n",
       " (('monopoly', '.'), ('monopoly', 'NOUN')),\n",
       " (('7.422', '.'), ('7.422', 'NUM')),\n",
       " (('crunch', '.'), ('crunch', 'NOUN')),\n",
       " (('crunch', '.'), ('crunch', 'NOUN')),\n",
       " (('crunch', '.'), ('crunch', 'NOUN')),\n",
       " (('bang', '.'), ('bang', 'NOUN')),\n",
       " (('bang', '.'), ('bang', 'NOUN')),\n",
       " (('bang', '.'), ('bang', 'NOUN')),\n",
       " (('above', 'ADP'), ('above', 'ADV')),\n",
       " (('obvious', '.'), ('obvious', 'ADJ')),\n",
       " (('exit', '.'), ('exit', 'NOUN')),\n",
       " (('prayer', '.'), ('prayer', 'NOUN')),\n",
       " (('minted', '.'), ('minted', 'VERB')),\n",
       " (('millionaires', '.'), ('millionaires', 'NOUN')),\n",
       " (('20s', '.'), ('20s', 'NUM')),\n",
       " (('30s', '.'), ('30s', 'NUM')),\n",
       " (('replacement-car', '.'), ('replacement-car', 'NOUN')),\n",
       " (('rentals', '.'), ('rentals', 'NOUN')),\n",
       " (('accidents', '.'), ('accidents', 'NOUN')),\n",
       " (('computer-system-design', '.'), ('computer-system-design', 'ADJ')),\n",
       " (('more-advanced', '.'), ('more-advanced', 'ADJ')),\n",
       " (('microprocessor', '.'), ('microprocessor', 'NOUN')),\n",
       " (('megabytes', '.'), ('megabytes', 'NOUN')),\n",
       " (('100-megabyte', '.'), ('100-megabyte', 'ADJ')),\n",
       " (('hard', 'ADV'), ('hard', 'ADJ')),\n",
       " (('5,699', '.'), ('5,699', 'NUM')),\n",
       " (('6,799', '.'), ('6,799', 'NUM')),\n",
       " (('that', 'ADP'), ('that', 'DET')),\n",
       " (('weather', 'NOUN'), ('weather', 'VERB')),\n",
       " (('storm', '.'), ('storm', 'NOUN')),\n",
       " (('Citizens', '.'), ('Citizens', 'NOUN')),\n",
       " (('Peninsula', '.'), ('Peninsula', 'NOUN')),\n",
       " (('floral', '.'), ('floral', 'ADJ')),\n",
       " (('70-a-share', '.'), ('70-a-share', 'ADJ')),\n",
       " (('buy-back', 'NOUN'), ('buy-back', 'ADJ')),\n",
       " (('pressed', '.'), ('pressed', 'VERB')),\n",
       " (('*T*-156', '.'), ('*T*-156', 'X')),\n",
       " (('tender', 'NOUN'), ('tender', 'ADJ')),\n",
       " (('concerned', '.'), ('concerned', 'VERB')),\n",
       " (('developments', '.'), ('developments', 'NOUN')),\n",
       " (('slow', 'VERB'), ('slow', 'ADJ')),\n",
       " (('saved', '.'), ('saved', 'VERB')),\n",
       " (('reclaim', '.'), ('reclaim', 'VERB')),\n",
       " (('mortgaged', '.'), ('mortgaged', 'VERB')),\n",
       " (('price-support', '.'), ('price-support', 'ADJ')),\n",
       " (('compilation', '.'), ('compilation', 'NOUN')),\n",
       " (('direct-investment', '.'), ('direct-investment', 'ADJ')),\n",
       " (('blames', '.'), ('blames', 'VERB')),\n",
       " (('actor', '.'), ('actor', 'NOUN')),\n",
       " (('inheritor', '.'), ('inheritor', 'NOUN')),\n",
       " (('Charlie', '.'), ('Charlie', 'NOUN')),\n",
       " (('estimates', 'VERB'), ('estimates', 'NOUN')),\n",
       " (('volunteer', '.'), ('volunteer', 'NOUN')),\n",
       " (('teetering', '.'), ('teetering', 'VERB')),\n",
       " (('insolvency', '.'), ('insolvency', 'NOUN')),\n",
       " (('future', 'ADJ'), ('future', 'NOUN')),\n",
       " (('purchasing', 'NOUN'), ('purchasing', 'VERB')),\n",
       " (('better', 'ADV'), ('better', 'ADJ')),\n",
       " (('export', 'VERB'), ('export', 'NOUN')),\n",
       " (('avid', '.'), ('avid', 'ADJ')),\n",
       " (('fan', '.'), ('fan', 'NOUN')),\n",
       " (('cable', '.'), ('cable', 'NOUN')),\n",
       " (('close', 'VERB'), ('close', 'ADJ')),\n",
       " (('guarantee', 'NOUN'), ('guarantee', 'VERB')),\n",
       " (('seven-million-ton', '.'), ('seven-million-ton', 'ADJ')),\n",
       " (('cut', 'VERB'), ('cut', 'NOUN')),\n",
       " (('that', 'ADP'), ('that', 'DET')),\n",
       " (('acid', 'ADJ'), ('acid', 'NOUN')),\n",
       " (('50.1', '.'), ('50.1', 'NUM')),\n",
       " (('DiLoreto', '.'), ('DiLoreto', 'NOUN')),\n",
       " (('container', '.'), ('container', 'NOUN')),\n",
       " (('Delmont', '.'), ('Delmont', 'NOUN')),\n",
       " (('operating', 'NOUN'), ('operating', 'VERB')),\n",
       " (('FreudToy', '.'), ('FreudToy', 'NOUN')),\n",
       " (('pillow', '.'), ('pillow', 'NOUN')),\n",
       " (('likeness', '.'), ('likeness', 'NOUN')),\n",
       " (('Sigmund', '.'), ('Sigmund', 'NOUN')),\n",
       " (('Freud', '.'), ('Freud', 'NOUN')),\n",
       " (('24.95', '.'), ('24.95', 'NUM')),\n",
       " (('tool', '.'), ('tool', 'NOUN')),\n",
       " (('do-it-yourself', '.'), ('do-it-yourself', 'ADJ')),\n",
       " (('right', 'NOUN'), ('right', 'ADJ')),\n",
       " (('1.82', '.'), ('1.82', 'NUM')),\n",
       " (('84.29', '.'), ('84.29', 'NUM')),\n",
       " (('impending', 'VERB'), ('impending', 'ADJ')),\n",
       " (('attack', 'VERB'), ('attack', 'NOUN')),\n",
       " (('enough', 'ADV'), ('enough', 'ADJ')),\n",
       " (('more', 'ADV'), ('more', 'ADJ')),\n",
       " (('longtime', '.'), ('longtime', 'NOUN')),\n",
       " (('scholar', '.'), ('scholar', 'NOUN')),\n",
       " (('target', 'VERB'), ('target', 'NOUN')),\n",
       " (('enormously', '.'), ('enormously', 'ADV')),\n",
       " (('frustrating', '.'), ('frustrating', 'VERB')),\n",
       " (('science', '.'), ('science', 'NOUN')),\n",
       " (('raring', '.'), ('raring', 'ADJ')),\n",
       " (('invent', '.'), ('invent', 'VERB')),\n",
       " (('Walkman', '.'), ('Walkman', 'NOUN')),\n",
       " (('IRAs', '.'), ('IRAs', 'NOUN')),\n",
       " (('segmenting', '.'), ('segmenting', 'VERB')),\n",
       " (('equip', '.'), ('equip', 'VERB')),\n",
       " (('lap-shoulder', '.'), ('lap-shoulder', 'ADJ')),\n",
       " (('rear', '.'), ('rear', 'ADJ')),\n",
       " (('soliciting', '.'), ('soliciting', 'VERB')),\n",
       " (('TXO', '.'), ('TXO', 'NOUN')),\n",
       " ((\"'s\", 'VERB'), (\"'s\", 'PRT')),\n",
       " (('trip', '.'), ('trip', 'NOUN')),\n",
       " (('mindful', '.'), ('mindful', 'ADJ')),\n",
       " (('total', 'ADJ'), ('total', 'NOUN')),\n",
       " (('malignant', '.'), ('malignant', 'ADJ')),\n",
       " (('mesothelioma', '.'), ('mesothelioma', 'NOUN')),\n",
       " (('asbestosis', '.'), ('asbestosis', 'NOUN')),\n",
       " (('16.9', '.'), ('16.9', 'NUM')),\n",
       " (('more', 'ADV'), ('more', 'ADJ')),\n",
       " (('17.4', '.'), ('17.4', 'NUM')),\n",
       " (('18.6', '.'), ('18.6', 'NUM')),\n",
       " (('Tokyu', '.'), ('Tokyu', 'NOUN')),\n",
       " (('Soviet', 'ADJ'), ('Soviet', 'NOUN')),\n",
       " (('verge', '.'), ('verge', 'NOUN')),\n",
       " (('favored', 'VERB'), ('favored', 'ADJ')),\n",
       " (('accidentally', '.'), ('accidentally', 'ADV')),\n",
       " (('enabled', '.'), ('enabled', 'VERB')),\n",
       " (('jam', '.'), ('jam', 'NOUN')),\n",
       " (('cocoa', '.'), ('cocoa', 'NOUN')),\n",
       " (('war-rationed', '.'), ('war-rationed', 'ADJ')),\n",
       " (('goodies', '.'), ('goodies', 'NOUN')),\n",
       " (('reins', '.'), ('reins', 'NOUN')),\n",
       " (('competed', '.'), ('competed', 'VERB')),\n",
       " (('charge', 'NOUN'), ('charge', 'VERB')),\n",
       " (('disclose', '.'), ('disclose', 'VERB')),\n",
       " (('cost', 'VERB'), ('cost', 'NOUN')),\n",
       " (('1.50', '.'), ('1.50', 'NUM')),\n",
       " (('I.', '.'), ('I.', 'NOUN')),\n",
       " (('improper', '.'), ('improper', 'ADJ')),\n",
       " (('use', 'VERB'), ('use', 'NOUN')),\n",
       " (('crack', 'NOUN'), ('crack', 'VERB')),\n",
       " (('that', 'ADP'), ('that', 'DET')),\n",
       " (('such', 'ADJ'), ('such', 'DET')),\n",
       " (('platinum', '.'), ('platinum', 'NOUN')),\n",
       " (('down', 'ADV'), ('down', 'ADP')),\n",
       " (('5.70', '.'), ('5.70', 'NUM')),\n",
       " (('494.50', '.'), ('494.50', 'NUM'))]"
      ]
     },
     "execution_count": 24,
     "metadata": {},
     "output_type": "execute_result"
    }
   ],
   "source": [
    "incorrect_tagged_cases = [j for i, j in enumerate(zip(tagged_seq_vanilla_viterbi, test_run_base)) if j[0]!=j[1]]\n",
    "incorrect_tagged_cases"
   ]
  },
  {
   "cell_type": "markdown",
   "metadata": {},
   "source": [
    "### 2. MODIFIED VITERBI WITH TRANSITION PROBABILITY ON TEST SET (CREATED BY TRAIN TEST SPLIT):"
   ]
  },
  {
   "cell_type": "code",
   "execution_count": 25,
   "metadata": {
    "scrolled": true
   },
   "outputs": [
    {
     "name": "stdout",
     "output_type": "stream",
     "text": [
      "Time taken in seconds:  773.376373052597\n"
     ]
    }
   ],
   "source": [
    "# tagging the test sentences\n",
    "start = time.time()\n",
    "tagged_seq_mod_viterbi_1 = Viterbi_with_transition_proba(test_tagged_words)\n",
    "end = time.time()\n",
    "difference = end-start\n",
    "\n",
    "print(\"Time taken in seconds: \", difference)"
   ]
  },
  {
   "cell_type": "code",
   "execution_count": 26,
   "metadata": {},
   "outputs": [
    {
     "name": "stdout",
     "output_type": "stream",
     "text": [
      "Number of words correctly tagged:  4776\n",
      "Total Number of words:  5087\n",
      "Accuracy:  0.9388637703951248\n"
     ]
    }
   ],
   "source": [
    "test_check_mod_viterbi_1 = [i for i, j in zip(tagged_seq_mod_viterbi_1, test_run_base) if i == j] \n",
    "print(\"Number of words correctly tagged: \", len(test_check_mod_viterbi_1))\n",
    "print(\"Total Number of words: \", len(tagged_seq_mod_viterbi_1 ))\n",
    "accuracy = len(test_check_mod_viterbi_1)/len(tagged_seq_mod_viterbi_1)\n",
    "print(\"Accuracy: \", accuracy)"
   ]
  },
  {
   "cell_type": "markdown",
   "metadata": {},
   "source": [
    "**Below are incorrectly tagged words by Viterbi with only transition proba for unknown words**"
   ]
  },
  {
   "cell_type": "code",
   "execution_count": 27,
   "metadata": {
    "scrolled": true
   },
   "outputs": [
    {
     "data": {
      "text/plain": [
       "[(('trade', 'VERB'), ('trade', 'NOUN')),\n",
       " (('Private', 'ADJ'), ('Private', 'NOUN')),\n",
       " (('pre-1917', 'X'), ('pre-1917', 'ADJ')),\n",
       " (('purchasing', 'NOUN'), ('purchasing', 'VERB')),\n",
       " (('reasonably', 'NOUN'), ('reasonably', 'ADV')),\n",
       " (('though', 'ADP'), ('though', 'ADV')),\n",
       " (('close', 'NOUN'), ('close', 'ADJ')),\n",
       " (('more', 'ADV'), ('more', 'ADJ')),\n",
       " (('Tokio', 'DET'), ('Tokio', 'NOUN')),\n",
       " (('preventative', 'DET'), ('preventative', 'ADJ')),\n",
       " (('20.5', 'NOUN'), ('20.5', 'NUM')),\n",
       " (('polarized', 'X'), ('polarized', 'VERB')),\n",
       " (('so', 'ADV'), ('so', 'ADP')),\n",
       " (('middle', 'NOUN'), ('middle', 'ADJ')),\n",
       " (('Though', 'NOUN'), ('Though', 'ADP')),\n",
       " (('154.2', 'X'), ('154.2', 'NUM')),\n",
       " (('chalk', 'DET'), ('chalk', 'NOUN')),\n",
       " (('first', 'ADJ'), ('first', 'ADV')),\n",
       " (('touched', 'NOUN'), ('touched', 'VERB')),\n",
       " (('cross-border', 'DET'), ('cross-border', 'ADJ')),\n",
       " (('emigres', 'DET'), ('emigres', 'NOUN')),\n",
       " (('*T*-133', 'NOUN'), ('*T*-133', 'X')),\n",
       " (('checking', 'NOUN'), ('checking', 'VERB')),\n",
       " (('safe', 'NOUN'), ('safe', 'ADJ')),\n",
       " (('plus', 'CONJ'), ('plus', 'ADV')),\n",
       " (('1953', 'DET'), ('1953', 'NUM')),\n",
       " (('1955', 'VERB'), ('1955', 'NUM')),\n",
       " (('homeless', 'ADJ'), ('homeless', 'NOUN')),\n",
       " (('pre-existing', 'X'), ('pre-existing', 'ADJ')),\n",
       " (('1,200', 'X'), ('1,200', 'NUM')),\n",
       " (('up', 'ADV'), ('up', 'PRT')),\n",
       " (('American-style', 'VERB'), ('American-style', 'ADJ')),\n",
       " (('most', 'ADJ'), ('most', 'ADV')),\n",
       " (('that', 'ADP'), ('that', 'DET')),\n",
       " (('*T*-253', 'DET'), ('*T*-253', 'X')),\n",
       " (('as', 'ADP'), ('as', 'ADV')),\n",
       " (('133.7', 'NOUN'), ('133.7', 'NUM')),\n",
       " (('94', 'NOUN'), ('94', 'NUM')),\n",
       " (('test', 'VERB'), ('test', 'NOUN')),\n",
       " (('out', 'PRT'), ('out', 'ADV')),\n",
       " (('*T*-222', 'VERB'), ('*T*-222', 'X')),\n",
       " (('sometimes-exhausting', 'NOUN'), ('sometimes-exhausting', 'ADJ')),\n",
       " (('sounding', 'NOUN'), ('sounding', 'VERB')),\n",
       " (('manmade-fiber', 'DET'), ('manmade-fiber', 'ADJ')),\n",
       " (('405', 'NOUN'), ('405', 'NUM')),\n",
       " (('*T*-102', 'VERB'), ('*T*-102', 'X')),\n",
       " ((\"'s\", 'PRT'), (\"'s\", 'VERB')),\n",
       " (('last', 'ADJ'), ('last', 'VERB')),\n",
       " (('develops', 'NOUN'), ('develops', 'VERB')),\n",
       " (('markets', 'NOUN'), ('markets', 'VERB')),\n",
       " (('low-cost', 'NOUN'), ('low-cost', 'ADJ')),\n",
       " (('waived', 'NOUN'), ('waived', 'VERB')),\n",
       " (('supplemental', 'DET'), ('supplemental', 'ADJ')),\n",
       " (('anti-drug', 'NOUN'), ('anti-drug', 'ADJ')),\n",
       " (('bearing', 'VERB'), ('bearing', 'NOUN')),\n",
       " (('work', 'VERB'), ('work', 'NOUN')),\n",
       " (('force', 'VERB'), ('force', 'NOUN')),\n",
       " (('that', 'DET'), ('that', 'ADP')),\n",
       " (('principal', 'NOUN'), ('principal', 'ADJ')),\n",
       " (('*T*-128', 'VERB'), ('*T*-128', 'X')),\n",
       " (('*T*-129', 'VERB'), ('*T*-129', 'X')),\n",
       " (('computer-generated', 'NOUN'), ('computer-generated', 'ADJ')),\n",
       " (('certified', 'DET'), ('certified', 'ADJ')),\n",
       " (('veto', 'NOUN'), ('veto', 'VERB')),\n",
       " (('containing', 'NOUN'), ('containing', 'VERB')),\n",
       " (('alternatively', 'NOUN'), ('alternatively', 'ADV')),\n",
       " (('sign', 'NOUN'), ('sign', 'VERB')),\n",
       " (('intrusions', 'VERB'), ('intrusions', 'NOUN')),\n",
       " (('executive', 'NOUN'), ('executive', 'ADJ')),\n",
       " (('void', 'VERB'), ('void', 'ADJ')),\n",
       " (('American', 'NOUN'), ('American', 'ADJ')),\n",
       " (('43.875', 'NOUN'), ('43.875', 'NUM')),\n",
       " (('mind', 'NOUN'), ('mind', 'VERB')),\n",
       " (('operating', 'NOUN'), ('operating', 'VERB')),\n",
       " (('shopped', 'NOUN'), ('shopped', 'VERB')),\n",
       " (('that', 'ADP'), ('that', 'DET')),\n",
       " (('average', 'ADJ'), ('average', 'NOUN')),\n",
       " (('133.8', 'DET'), ('133.8', 'NUM')),\n",
       " (('2.47', 'NOUN'), ('2.47', 'NUM')),\n",
       " (('7.4', 'VERB'), ('7.4', 'NUM')),\n",
       " (('2.30', 'NOUN'), ('2.30', 'NUM')),\n",
       " (('opening', 'NOUN'), ('opening', 'VERB')),\n",
       " (('13.625', 'NOUN'), ('13.625', 'NUM')),\n",
       " (('out', 'PRT'), ('out', 'ADP')),\n",
       " (('that', 'ADP'), ('that', 'DET')),\n",
       " (('Muzzling', 'NOUN'), ('Muzzling', 'ADJ')),\n",
       " (('executive', 'NOUN'), ('executive', 'ADJ')),\n",
       " ((\"'s\", 'PRT'), (\"'s\", 'VERB')),\n",
       " (('about', 'ADP'), ('about', 'PRT')),\n",
       " (('quips', 'NOUN'), ('quips', 'VERB')),\n",
       " (('Northampton', 'DET'), ('Northampton', 'NOUN')),\n",
       " (('air', 'VERB'), ('air', 'NOUN')),\n",
       " (('bags', 'X'), ('bags', 'NOUN')),\n",
       " (('front', 'NOUN'), ('front', 'ADJ')),\n",
       " (('side-crash', 'X'), ('side-crash', 'ADJ')),\n",
       " (('alleged', 'ADJ'), ('alleged', 'VERB')),\n",
       " (('Legend', 'VERB'), ('Legend', 'NOUN')),\n",
       " (('multinational', 'DET'), ('multinational', 'ADJ')),\n",
       " (('wheel-loader', 'NOUN'), ('wheel-loader', 'ADJ')),\n",
       " (('Heidelberg', 'DET'), ('Heidelberg', 'NOUN')),\n",
       " (('drink', 'NOUN'), ('drink', 'VERB')),\n",
       " (('desultory', 'NOUN'), ('desultory', 'ADJ')),\n",
       " (('declines', 'VERB'), ('declines', 'NOUN')),\n",
       " (('distinguished', 'NOUN'), ('distinguished', 'VERB')),\n",
       " (('herself', 'NOUN'), ('herself', 'PRON')),\n",
       " (('forcing', 'VERB'), ('forcing', 'ADJ')),\n",
       " (('up', 'ADV'), ('up', 'PRT')),\n",
       " (('college-bowl', 'X'), ('college-bowl', 'NOUN')),\n",
       " (('covers', 'VERB'), ('covers', 'NOUN')),\n",
       " (('Velcro', 'DET'), ('Velcro', 'NOUN')),\n",
       " (('that', 'ADP'), ('that', 'DET')),\n",
       " (('pins', 'VERB'), ('pins', 'NOUN')),\n",
       " (('estimates', 'VERB'), ('estimates', 'NOUN')),\n",
       " (('in', 'ADP'), ('in', 'PRT')),\n",
       " (('finance', 'NOUN'), ('finance', 'VERB')),\n",
       " (('non-core', 'X'), ('non-core', 'ADJ')),\n",
       " (('off', 'PRT'), ('off', 'ADP')),\n",
       " (('more', 'ADV'), ('more', 'ADJ')),\n",
       " (('appropriated', 'X'), ('appropriated', 'VERB')),\n",
       " (('twice', 'NOUN'), ('twice', 'ADV')),\n",
       " (('as', 'ADP'), ('as', 'ADV')),\n",
       " (('that', 'ADP'), ('that', 'DET')),\n",
       " (('noncompetitively', 'VERB'), ('noncompetitively', 'ADV')),\n",
       " (('Wilfred', 'VERB'), ('Wilfred', 'NOUN')),\n",
       " (('chief', 'NOUN'), ('chief', 'ADJ')),\n",
       " (('executive', 'NOUN'), ('executive', 'ADJ')),\n",
       " (('up', 'ADV'), ('up', 'PRT')),\n",
       " (('as', 'ADP'), ('as', 'ADV')),\n",
       " (('underlying', 'ADJ'), ('underlying', 'VERB')),\n",
       " (('more', 'ADV'), ('more', 'ADJ')),\n",
       " (('binders', 'VERB'), ('binders', 'NOUN')),\n",
       " (('93.9', 'NOUN'), ('93.9', 'NUM')),\n",
       " (('1.19', 'NOUN'), ('1.19', 'NUM')),\n",
       " (('92.9', 'NOUN'), ('92.9', 'NUM')),\n",
       " (('1.18', 'NOUN'), ('1.18', 'NUM')),\n",
       " (('earlier', 'ADV'), ('earlier', 'ADJ')),\n",
       " (('due', 'ADJ'), ('due', 'ADV')),\n",
       " (('overseas', 'ADV'), ('overseas', 'ADJ')),\n",
       " (('apparent', 'NOUN'), ('apparent', 'ADJ')),\n",
       " (('slowing', 'VERB'), ('slowing', 'NOUN')),\n",
       " (('single-family', 'NOUN'), ('single-family', 'ADJ')),\n",
       " (('estimate', 'NOUN'), ('estimate', 'VERB')),\n",
       " (('razor-thin', 'NOUN'), ('razor-thin', 'ADJ')),\n",
       " (('rarely', 'NOUN'), ('rarely', 'ADV')),\n",
       " (('acted', 'NOUN'), ('acted', 'VERB')),\n",
       " (('deplorable', 'NOUN'), ('deplorable', 'ADJ')),\n",
       " (('brushed', 'NOUN'), ('brushed', 'VERB')),\n",
       " (('talk', 'VERB'), ('talk', 'NOUN')),\n",
       " (('total', 'VERB'), ('total', 'ADJ')),\n",
       " (('topped', 'X'), ('topped', 'VERB')),\n",
       " (('16.5', 'NOUN'), ('16.5', 'NUM')),\n",
       " (('that', 'ADP'), ('that', 'DET')),\n",
       " (('technically', 'NOUN'), ('technically', 'ADV')),\n",
       " (('No', 'DET'), ('No', 'ADV')),\n",
       " (('triple', 'NOUN'), ('triple', 'ADV')),\n",
       " (('Washington-based', 'NOUN'), ('Washington-based', 'ADJ')),\n",
       " (('777', 'NOUN'), ('777', 'NUM')),\n",
       " (('Palestinian', 'ADJ'), ('Palestinian', 'NOUN')),\n",
       " (('first', 'ADJ'), ('first', 'ADV')),\n",
       " (('1.20', 'X'), ('1.20', 'NUM')),\n",
       " (('1.14', 'NOUN'), ('1.14', 'NUM')),\n",
       " (('2163.2', 'DET'), ('2163.2', 'NUM')),\n",
       " (('half-hour', 'ADJ'), ('half-hour', 'NOUN')),\n",
       " (('further', 'ADJ'), ('further', 'ADV')),\n",
       " (('load', 'NOUN'), ('load', 'VERB')),\n",
       " (('dreamed', 'NOUN'), ('dreamed', 'VERB')),\n",
       " (('improbable', 'VERB'), ('improbable', 'ADJ')),\n",
       " (('shop', 'VERB'), ('shop', 'NOUN')),\n",
       " (('high-rise', 'NOUN'), ('high-rise', 'ADJ')),\n",
       " (('2-8', 'NOUN'), ('2-8', 'NUM')),\n",
       " (('ago', 'ADP'), ('ago', 'ADV')),\n",
       " (('A.C.', 'VERB'), ('A.C.', 'NOUN')),\n",
       " (('Nielsen', 'X'), ('Nielsen', 'NOUN')),\n",
       " (('supportive', 'NOUN'), ('supportive', 'ADJ')),\n",
       " (('that', 'ADP'), ('that', 'DET')),\n",
       " (('*T*-215', 'DET'), ('*T*-215', 'X')),\n",
       " (('87.5', 'X'), ('87.5', 'NUM')),\n",
       " (('38.875', 'NOUN'), ('38.875', 'NUM')),\n",
       " (('noodles', 'X'), ('noodles', 'NOUN')),\n",
       " (('pre-cooked', 'NOUN'), ('pre-cooked', 'ADJ')),\n",
       " (('Clive', 'DET'), ('Clive', 'NOUN')),\n",
       " (('about', 'ADP'), ('about', 'ADV')),\n",
       " (('Smaby', 'DET'), ('Smaby', 'NOUN')),\n",
       " (('cosmetic', 'NOUN'), ('cosmetic', 'ADJ')),\n",
       " (('Wertheim', 'DET'), ('Wertheim', 'NOUN')),\n",
       " (('entertaining', 'NOUN'), ('entertaining', 'ADJ')),\n",
       " (('means', 'NOUN'), ('means', 'VERB')),\n",
       " (('confrontational', 'NOUN'), ('confrontational', 'ADJ')),\n",
       " (('refunded', 'X'), ('refunded', 'VERB')),\n",
       " (('shareholder-rights', 'NOUN'), ('shareholder-rights', 'ADJ')),\n",
       " (('unwanted', 'VERB'), ('unwanted', 'ADJ')),\n",
       " (('suitors', 'X'), ('suitors', 'NOUN')),\n",
       " (('that', 'DET'), ('that', 'ADP')),\n",
       " (('66.5', 'DET'), ('66.5', 'NUM')),\n",
       " (('affecting', 'NOUN'), ('affecting', 'VERB')),\n",
       " (('seconds', 'DET'), ('seconds', 'NOUN')),\n",
       " (('low-tech', 'NOUN'), ('low-tech', 'ADJ')),\n",
       " (('catch', 'NOUN'), ('catch', 'VERB')),\n",
       " (('fancy', 'VERB'), ('fancy', 'NOUN')),\n",
       " (('strategic', 'NOUN'), ('strategic', 'ADJ')),\n",
       " (('servicing', 'NOUN'), ('servicing', 'VERB')),\n",
       " (('arise', 'NOUN'), ('arise', 'VERB')),\n",
       " (('buy', 'VERB'), ('buy', 'NOUN')),\n",
       " (('sell', 'VERB'), ('sell', 'NOUN')),\n",
       " (('that', 'ADP'), ('that', 'DET')),\n",
       " (('up', 'ADV'), ('up', 'PRT')),\n",
       " (('cumbersome', 'VERB'), ('cumbersome', 'ADJ')),\n",
       " (('day-care', 'NOUN'), ('day-care', 'ADJ')),\n",
       " (('centers', 'VERB'), ('centers', 'NOUN')),\n",
       " (('that', 'ADP'), ('that', 'DET')),\n",
       " (('pressed', 'NOUN'), ('pressed', 'VERB')),\n",
       " (('implemented', 'X'), ('implemented', 'VERB')),\n",
       " (('1', 'NUM'), ('1', 'X')),\n",
       " (('2', 'NUM'), ('2', 'X')),\n",
       " (('focus', 'VERB'), ('focus', 'NOUN')),\n",
       " (('3', 'NUM'), ('3', 'X')),\n",
       " (('playing', 'VERB'), ('playing', 'NOUN')),\n",
       " (('monopoly', 'VERB'), ('monopoly', 'NOUN')),\n",
       " (('7.422', 'X'), ('7.422', 'NUM')),\n",
       " (('crunch', 'VERB'), ('crunch', 'NOUN')),\n",
       " (('above', 'ADP'), ('above', 'ADV')),\n",
       " (('obvious', 'VERB'), ('obvious', 'ADJ')),\n",
       " (('exit', 'X'), ('exit', 'NOUN')),\n",
       " (('prayer', 'DET'), ('prayer', 'NOUN')),\n",
       " (('minted', 'X'), ('minted', 'VERB')),\n",
       " (('millionaires', 'DET'), ('millionaires', 'NOUN')),\n",
       " (('20s', 'VERB'), ('20s', 'NUM')),\n",
       " (('30s', 'NOUN'), ('30s', 'NUM')),\n",
       " (('replacement-car', 'DET'), ('replacement-car', 'NOUN')),\n",
       " (('accidents', 'DET'), ('accidents', 'NOUN')),\n",
       " (('computer-system-design', 'DET'), ('computer-system-design', 'ADJ')),\n",
       " (('more-advanced', 'NOUN'), ('more-advanced', 'ADJ')),\n",
       " (('100-megabyte', 'NOUN'), ('100-megabyte', 'ADJ')),\n",
       " (('hard', 'ADV'), ('hard', 'ADJ')),\n",
       " (('5,699', 'NOUN'), ('5,699', 'NUM')),\n",
       " (('6,799', 'NOUN'), ('6,799', 'NUM')),\n",
       " (('that', 'ADP'), ('that', 'DET')),\n",
       " (('weather', 'NOUN'), ('weather', 'VERB')),\n",
       " (('Peninsula', 'DET'), ('Peninsula', 'NOUN')),\n",
       " (('floral', 'VERB'), ('floral', 'ADJ')),\n",
       " (('70-a-share', 'NOUN'), ('70-a-share', 'ADJ')),\n",
       " (('buy-back', 'NOUN'), ('buy-back', 'ADJ')),\n",
       " (('*T*-156', 'NOUN'), ('*T*-156', 'X')),\n",
       " (('tender', 'NOUN'), ('tender', 'ADJ')),\n",
       " (('slow', 'VERB'), ('slow', 'ADJ')),\n",
       " (('mortgaged', 'NOUN'), ('mortgaged', 'VERB')),\n",
       " (('price-support', 'DET'), ('price-support', 'ADJ')),\n",
       " (('direct-investment', 'NOUN'), ('direct-investment', 'ADJ')),\n",
       " (('Charlie', 'DET'), ('Charlie', 'NOUN')),\n",
       " (('estimates', 'VERB'), ('estimates', 'NOUN')),\n",
       " (('volunteer', 'VERB'), ('volunteer', 'NOUN')),\n",
       " (('work', 'VERB'), ('work', 'NOUN')),\n",
       " (('teetering', 'NOUN'), ('teetering', 'VERB')),\n",
       " (('insolvency', 'DET'), ('insolvency', 'NOUN')),\n",
       " (('future', 'ADJ'), ('future', 'NOUN')),\n",
       " (('purchasing', 'NOUN'), ('purchasing', 'VERB')),\n",
       " (('better', 'ADV'), ('better', 'ADJ')),\n",
       " (('export', 'VERB'), ('export', 'NOUN')),\n",
       " (('avid', 'NOUN'), ('avid', 'ADJ')),\n",
       " (('close', 'VERB'), ('close', 'ADJ')),\n",
       " (('guarantee', 'NOUN'), ('guarantee', 'VERB')),\n",
       " (('seven-million-ton', 'X'), ('seven-million-ton', 'ADJ')),\n",
       " (('cut', 'VERB'), ('cut', 'NOUN')),\n",
       " (('that', 'ADP'), ('that', 'DET')),\n",
       " (('acid', 'ADJ'), ('acid', 'NOUN')),\n",
       " (('50.1', 'DET'), ('50.1', 'NUM')),\n",
       " (('Delmont', 'X'), ('Delmont', 'NOUN')),\n",
       " (('operating', 'NOUN'), ('operating', 'VERB')),\n",
       " (('Sigmund', 'DET'), ('Sigmund', 'NOUN')),\n",
       " (('24.95', 'NOUN'), ('24.95', 'NUM')),\n",
       " (('tool', 'VERB'), ('tool', 'NOUN')),\n",
       " (('do-it-yourself', 'DET'), ('do-it-yourself', 'ADJ')),\n",
       " (('right', 'NOUN'), ('right', 'ADJ')),\n",
       " (('1.82', 'NOUN'), ('1.82', 'NUM')),\n",
       " (('84.29', 'NOUN'), ('84.29', 'NUM')),\n",
       " (('impending', 'VERB'), ('impending', 'ADJ')),\n",
       " (('attack', 'VERB'), ('attack', 'NOUN')),\n",
       " (('enough', 'ADV'), ('enough', 'ADJ')),\n",
       " (('more', 'ADV'), ('more', 'ADJ')),\n",
       " (('target', 'VERB'), ('target', 'NOUN')),\n",
       " (('enormously', 'X'), ('enormously', 'ADV')),\n",
       " (('raring', 'X'), ('raring', 'ADJ')),\n",
       " (('lap-shoulder', 'DET'), ('lap-shoulder', 'ADJ')),\n",
       " (('rear', 'DET'), ('rear', 'ADJ')),\n",
       " (('soliciting', 'X'), ('soliciting', 'VERB')),\n",
       " (('TXO', 'X'), ('TXO', 'NOUN')),\n",
       " (('mindful', 'VERB'), ('mindful', 'ADJ')),\n",
       " (('total', 'ADJ'), ('total', 'NOUN')),\n",
       " (('malignant', 'DET'), ('malignant', 'ADJ')),\n",
       " (('16.9', 'NOUN'), ('16.9', 'NUM')),\n",
       " (('more', 'ADV'), ('more', 'ADJ')),\n",
       " (('17.4', 'DET'), ('17.4', 'NUM')),\n",
       " (('18.6', 'NOUN'), ('18.6', 'NUM')),\n",
       " (('Soviet', 'ADJ'), ('Soviet', 'NOUN')),\n",
       " (('favored', 'VERB'), ('favored', 'ADJ')),\n",
       " (('accidentally', 'NOUN'), ('accidentally', 'ADV')),\n",
       " (('jam', 'X'), ('jam', 'NOUN')),\n",
       " (('war-rationed', 'NOUN'), ('war-rationed', 'ADJ')),\n",
       " (('competed', 'X'), ('competed', 'VERB')),\n",
       " (('charge', 'NOUN'), ('charge', 'VERB')),\n",
       " (('disclose', 'X'), ('disclose', 'VERB')),\n",
       " (('cost', 'VERB'), ('cost', 'NOUN')),\n",
       " (('1.50', 'NOUN'), ('1.50', 'NUM')),\n",
       " (('improper', 'NOUN'), ('improper', 'ADJ')),\n",
       " (('use', 'VERB'), ('use', 'NOUN')),\n",
       " (('crack', 'NOUN'), ('crack', 'VERB')),\n",
       " (('that', 'ADP'), ('that', 'DET')),\n",
       " (('such', 'ADJ'), ('such', 'DET')),\n",
       " (('down', 'ADV'), ('down', 'ADP')),\n",
       " (('5.70', 'NOUN'), ('5.70', 'NUM')),\n",
       " (('494.50', 'NOUN'), ('494.50', 'NUM'))]"
      ]
     },
     "execution_count": 27,
     "metadata": {},
     "output_type": "execute_result"
    }
   ],
   "source": [
    "incorrect_tagged_cases_viterbi_transition_proba = [j for i, j in enumerate(zip(tagged_seq_mod_viterbi_1, test_run_base)) if j[0]!=j[1]]\n",
    "incorrect_tagged_cases_viterbi_transition_proba"
   ]
  },
  {
   "cell_type": "markdown",
   "metadata": {},
   "source": [
    "### 3. MODIFIED VITERBI WITH TREGEX TAGGER BACKOFF ON TEST SET (CREATED BY TRAIN TEST SPLIT):"
   ]
  },
  {
   "cell_type": "code",
   "execution_count": 28,
   "metadata": {
    "scrolled": true
   },
   "outputs": [
    {
     "name": "stdout",
     "output_type": "stream",
     "text": [
      "Time taken in seconds:  793.2432219982147\n"
     ]
    }
   ],
   "source": [
    "# tagging the test sentences\n",
    "start = time.time()\n",
    "tagged_seq_mod_viterbi_2 = Viterbi_with_regex_backoff(test_tagged_words)\n",
    "end = time.time()\n",
    "difference = end-start\n",
    "\n",
    "print(\"Time taken in seconds: \", difference)"
   ]
  },
  {
   "cell_type": "code",
   "execution_count": 29,
   "metadata": {},
   "outputs": [
    {
     "name": "stdout",
     "output_type": "stream",
     "text": [
      "Number of words correctly tagged:  4897\n",
      "Total Number of words:  5087\n",
      "Accuracy:  0.9626498918812659\n"
     ]
    }
   ],
   "source": [
    "test_check_mod_viterbi_2 = [i for i, j in zip(tagged_seq_mod_viterbi_2, test_run_base) if i == j] \n",
    "print(\"Number of words correctly tagged: \", len(test_check_mod_viterbi_2))\n",
    "print(\"Total Number of words: \", len(tagged_seq_mod_viterbi_2 ))\n",
    "accuracy = len(test_check_mod_viterbi_2)/len(tagged_seq_mod_viterbi_2)\n",
    "print(\"Accuracy: \", accuracy)"
   ]
  },
  {
   "cell_type": "markdown",
   "metadata": {},
   "source": [
    "**Below are incorrectly tagged words by Viterbi with regex based POS tagger for unknown words**"
   ]
  },
  {
   "cell_type": "code",
   "execution_count": 30,
   "metadata": {},
   "outputs": [
    {
     "data": {
      "text/plain": [
       "[(('trade', 'VERB'), ('trade', 'NOUN')),\n",
       " (('Private', 'ADJ'), ('Private', 'NOUN')),\n",
       " (('purchasing', 'NOUN'), ('purchasing', 'VERB')),\n",
       " (('though', 'ADP'), ('though', 'ADV')),\n",
       " (('close', 'NOUN'), ('close', 'ADJ')),\n",
       " (('more', 'ADV'), ('more', 'ADJ')),\n",
       " (('Funded', 'NOUN'), ('Funded', 'VERB')),\n",
       " (('preventative', 'DET'), ('preventative', 'ADJ')),\n",
       " (('so', 'ADV'), ('so', 'ADP')),\n",
       " (('exists', 'NOUN'), ('exists', 'VERB')),\n",
       " (('middle', 'NOUN'), ('middle', 'ADJ')),\n",
       " (('Though', 'NOUN'), ('Though', 'ADP')),\n",
       " (('chalk', 'DET'), ('chalk', 'NOUN')),\n",
       " (('first', 'ADJ'), ('first', 'ADV')),\n",
       " (('slate', 'X'), ('slate', 'NOUN')),\n",
       " (('checking', 'NOUN'), ('checking', 'VERB')),\n",
       " (('safe', 'NOUN'), ('safe', 'ADJ')),\n",
       " (('plus', 'CONJ'), ('plus', 'ADV')),\n",
       " (('homeless', 'ADJ'), ('homeless', 'NOUN')),\n",
       " (('up', 'ADV'), ('up', 'PRT')),\n",
       " (('American-style', 'NOUN'), ('American-style', 'ADJ')),\n",
       " (('most', 'ADJ'), ('most', 'ADV')),\n",
       " (('that', 'ADP'), ('that', 'DET')),\n",
       " (('as', 'ADP'), ('as', 'ADV')),\n",
       " (('test', 'VERB'), ('test', 'NOUN')),\n",
       " (('out', 'PRT'), ('out', 'ADV')),\n",
       " ((\"'s\", 'PRT'), (\"'s\", 'VERB')),\n",
       " (('last', 'ADJ'), ('last', 'VERB')),\n",
       " (('develops', 'NOUN'), ('develops', 'VERB')),\n",
       " (('markets', 'NOUN'), ('markets', 'VERB')),\n",
       " (('supplemental', 'DET'), ('supplemental', 'ADJ')),\n",
       " (('bearing', 'VERB'), ('bearing', 'NOUN')),\n",
       " (('work', 'VERB'), ('work', 'NOUN')),\n",
       " (('force', 'VERB'), ('force', 'NOUN')),\n",
       " (('that', 'DET'), ('that', 'ADP')),\n",
       " (('principal', 'NOUN'), ('principal', 'ADJ')),\n",
       " (('red-flag', 'ADJ'), ('red-flag', 'VERB')),\n",
       " (('certified', 'VERB'), ('certified', 'ADJ')),\n",
       " (('mail', 'X'), ('mail', 'NOUN')),\n",
       " (('veto', 'NOUN'), ('veto', 'VERB')),\n",
       " (('sign', 'NOUN'), ('sign', 'VERB')),\n",
       " (('executive', 'NOUN'), ('executive', 'ADJ')),\n",
       " (('void', 'VERB'), ('void', 'ADJ')),\n",
       " (('American', 'NOUN'), ('American', 'ADJ')),\n",
       " (('mind', 'NOUN'), ('mind', 'VERB')),\n",
       " (('operating', 'NOUN'), ('operating', 'VERB')),\n",
       " (('that', 'ADP'), ('that', 'DET')),\n",
       " (('helps', 'NOUN'), ('helps', 'VERB')),\n",
       " (('average', 'ADJ'), ('average', 'NOUN')),\n",
       " (('opening', 'NOUN'), ('opening', 'VERB')),\n",
       " (('out', 'PRT'), ('out', 'ADP')),\n",
       " (('that', 'ADP'), ('that', 'DET')),\n",
       " (('Muzzling', 'NOUN'), ('Muzzling', 'ADJ')),\n",
       " (('executive', 'NOUN'), ('executive', 'ADJ')),\n",
       " ((\"'s\", 'PRT'), (\"'s\", 'VERB')),\n",
       " (('about', 'ADP'), ('about', 'PRT')),\n",
       " (('quips', 'NOUN'), ('quips', 'VERB')),\n",
       " (('air', 'VERB'), ('air', 'NOUN')),\n",
       " (('front', 'NOUN'), ('front', 'ADJ')),\n",
       " (('alleged', 'ADJ'), ('alleged', 'VERB')),\n",
       " (('word-processing', 'ADJ'), ('word-processing', 'NOUN')),\n",
       " (('multinational', 'DET'), ('multinational', 'ADJ')),\n",
       " (('drink', 'NOUN'), ('drink', 'VERB')),\n",
       " (('desultory', 'NOUN'), ('desultory', 'ADJ')),\n",
       " (('declines', 'VERB'), ('declines', 'NOUN')),\n",
       " (('forcing', 'VERB'), ('forcing', 'ADJ')),\n",
       " (('up', 'ADV'), ('up', 'PRT')),\n",
       " (('college-bowl', 'ADJ'), ('college-bowl', 'NOUN')),\n",
       " (('covers', 'VERB'), ('covers', 'NOUN')),\n",
       " (('that', 'ADP'), ('that', 'DET')),\n",
       " (('pins', 'VERB'), ('pins', 'NOUN')),\n",
       " (('estimates', 'VERB'), ('estimates', 'NOUN')),\n",
       " (('in', 'ADP'), ('in', 'PRT')),\n",
       " (('finance', 'NOUN'), ('finance', 'VERB')),\n",
       " (('off', 'PRT'), ('off', 'ADP')),\n",
       " (('more', 'ADV'), ('more', 'ADJ')),\n",
       " (('twice', 'NOUN'), ('twice', 'ADV')),\n",
       " (('as', 'ADP'), ('as', 'ADV')),\n",
       " (('that', 'ADP'), ('that', 'DET')),\n",
       " (('mandates', 'NOUN'), ('mandates', 'VERB')),\n",
       " (('chief', 'NOUN'), ('chief', 'ADJ')),\n",
       " (('executive', 'NOUN'), ('executive', 'ADJ')),\n",
       " (('up', 'ADV'), ('up', 'PRT')),\n",
       " (('as', 'ADP'), ('as', 'ADV')),\n",
       " (('underlying', 'ADJ'), ('underlying', 'VERB')),\n",
       " (('more', 'ADV'), ('more', 'ADJ')),\n",
       " (('earlier', 'ADV'), ('earlier', 'ADJ')),\n",
       " (('due', 'ADJ'), ('due', 'ADV')),\n",
       " (('overseas', 'ADV'), ('overseas', 'ADJ')),\n",
       " (('apparent', 'NOUN'), ('apparent', 'ADJ')),\n",
       " (('slowing', 'VERB'), ('slowing', 'NOUN')),\n",
       " (('single-family', 'NOUN'), ('single-family', 'ADJ')),\n",
       " (('estimate', 'NOUN'), ('estimate', 'VERB')),\n",
       " (('fledgling', 'VERB'), ('fledgling', 'NOUN')),\n",
       " (('talk', 'VERB'), ('talk', 'NOUN')),\n",
       " (('total', 'VERB'), ('total', 'ADJ')),\n",
       " (('that', 'ADP'), ('that', 'DET')),\n",
       " (('No', 'DET'), ('No', 'ADV')),\n",
       " (('triple', 'NOUN'), ('triple', 'ADV')),\n",
       " (('Washington-based', 'NOUN'), ('Washington-based', 'ADJ')),\n",
       " (('Palestinian', 'ADJ'), ('Palestinian', 'NOUN')),\n",
       " (('first', 'ADJ'), ('first', 'ADV')),\n",
       " (('half-hour', 'ADJ'), ('half-hour', 'NOUN')),\n",
       " (('further', 'ADJ'), ('further', 'ADV')),\n",
       " (('load', 'NOUN'), ('load', 'VERB')),\n",
       " (('up', 'ADV'), ('up', 'PRT')),\n",
       " (('shop', 'VERB'), ('shop', 'NOUN')),\n",
       " (('ago', 'ADP'), ('ago', 'ADV')),\n",
       " (('Having', 'NOUN'), ('Having', 'VERB')),\n",
       " (('supportive', 'NOUN'), ('supportive', 'ADJ')),\n",
       " (('that', 'ADP'), ('that', 'DET')),\n",
       " (('about', 'ADP'), ('about', 'ADV')),\n",
       " (('cosmetic', 'NOUN'), ('cosmetic', 'ADJ')),\n",
       " (('entertaining', 'VERB'), ('entertaining', 'ADJ')),\n",
       " (('means', 'NOUN'), ('means', 'VERB')),\n",
       " (('confrontational', 'NOUN'), ('confrontational', 'ADJ')),\n",
       " (('unwanted', 'VERB'), ('unwanted', 'ADJ')),\n",
       " (('that', 'DET'), ('that', 'ADP')),\n",
       " (('catch', 'NOUN'), ('catch', 'VERB')),\n",
       " (('fancy', 'VERB'), ('fancy', 'NOUN')),\n",
       " (('strategic', 'NOUN'), ('strategic', 'ADJ')),\n",
       " (('servicing', 'NOUN'), ('servicing', 'VERB')),\n",
       " (('arise', 'NOUN'), ('arise', 'VERB')),\n",
       " (('buy', 'VERB'), ('buy', 'NOUN')),\n",
       " (('sell', 'VERB'), ('sell', 'NOUN')),\n",
       " (('that', 'ADP'), ('that', 'DET')),\n",
       " (('up', 'ADV'), ('up', 'PRT')),\n",
       " (('cumbersome', 'VERB'), ('cumbersome', 'ADJ')),\n",
       " (('stock-price', 'ADJ'), ('stock-price', 'NOUN')),\n",
       " (('that', 'ADP'), ('that', 'DET')),\n",
       " (('1', 'NUM'), ('1', 'X')),\n",
       " (('2', 'NUM'), ('2', 'X')),\n",
       " (('focus', 'VERB'), ('focus', 'NOUN')),\n",
       " (('3', 'NUM'), ('3', 'X')),\n",
       " (('playing', 'VERB'), ('playing', 'NOUN')),\n",
       " (('monopoly', 'ADV'), ('monopoly', 'NOUN')),\n",
       " (('crunch', 'VERB'), ('crunch', 'NOUN')),\n",
       " (('above', 'ADP'), ('above', 'ADV')),\n",
       " (('obvious', 'NOUN'), ('obvious', 'ADJ')),\n",
       " (('prayer', 'DET'), ('prayer', 'NOUN')),\n",
       " (('replacement-car', 'ADJ'), ('replacement-car', 'NOUN')),\n",
       " (('100-megabyte', 'NUM'), ('100-megabyte', 'ADJ')),\n",
       " (('that', 'ADP'), ('that', 'DET')),\n",
       " (('weather', 'NOUN'), ('weather', 'VERB')),\n",
       " (('floral', 'VERB'), ('floral', 'ADJ')),\n",
       " (('70-a-share', 'NOUN'), ('70-a-share', 'ADJ')),\n",
       " (('buy-back', 'NOUN'), ('buy-back', 'ADJ')),\n",
       " (('tender', 'NOUN'), ('tender', 'ADJ')),\n",
       " (('slow', 'VERB'), ('slow', 'ADJ')),\n",
       " (('blames', 'NOUN'), ('blames', 'VERB')),\n",
       " (('estimates', 'VERB'), ('estimates', 'NOUN')),\n",
       " (('volunteer', 'VERB'), ('volunteer', 'NOUN')),\n",
       " (('work', 'VERB'), ('work', 'NOUN')),\n",
       " (('insolvency', 'DET'), ('insolvency', 'NOUN')),\n",
       " (('future', 'ADJ'), ('future', 'NOUN')),\n",
       " (('purchasing', 'NOUN'), ('purchasing', 'VERB')),\n",
       " (('better', 'ADV'), ('better', 'ADJ')),\n",
       " (('export', 'VERB'), ('export', 'NOUN')),\n",
       " (('avid', 'NOUN'), ('avid', 'ADJ')),\n",
       " (('cable', 'ADJ'), ('cable', 'NOUN')),\n",
       " (('close', 'VERB'), ('close', 'ADJ')),\n",
       " (('guarantee', 'NOUN'), ('guarantee', 'VERB')),\n",
       " (('that', 'ADP'), ('that', 'DET')),\n",
       " (('acid', 'ADJ'), ('acid', 'NOUN')),\n",
       " (('operating', 'NOUN'), ('operating', 'VERB')),\n",
       " (('tool', 'VERB'), ('tool', 'NOUN')),\n",
       " (('right', 'NOUN'), ('right', 'ADJ')),\n",
       " (('impending', 'VERB'), ('impending', 'ADJ')),\n",
       " (('attack', 'VERB'), ('attack', 'NOUN')),\n",
       " (('enough', 'ADV'), ('enough', 'ADJ')),\n",
       " (('more', 'ADV'), ('more', 'ADJ')),\n",
       " (('target', 'VERB'), ('target', 'NOUN')),\n",
       " (('raring', 'VERB'), ('raring', 'ADJ')),\n",
       " (('rear', 'DET'), ('rear', 'ADJ')),\n",
       " (('mindful', 'VERB'), ('mindful', 'ADJ')),\n",
       " (('total', 'ADJ'), ('total', 'NOUN')),\n",
       " (('malignant', 'DET'), ('malignant', 'ADJ')),\n",
       " (('more', 'ADV'), ('more', 'ADJ')),\n",
       " (('Soviet', 'ADJ'), ('Soviet', 'NOUN')),\n",
       " (('favored', 'VERB'), ('favored', 'ADJ')),\n",
       " (('jam', 'X'), ('jam', 'NOUN')),\n",
       " (('charge', 'NOUN'), ('charge', 'VERB')),\n",
       " (('disclose', 'X'), ('disclose', 'VERB')),\n",
       " (('cost', 'VERB'), ('cost', 'NOUN')),\n",
       " (('improper', 'NOUN'), ('improper', 'ADJ')),\n",
       " (('use', 'VERB'), ('use', 'NOUN')),\n",
       " (('crack', 'NOUN'), ('crack', 'VERB')),\n",
       " (('that', 'ADP'), ('that', 'DET')),\n",
       " (('such', 'ADJ'), ('such', 'DET')),\n",
       " (('down', 'ADV'), ('down', 'ADP'))]"
      ]
     },
     "execution_count": 30,
     "metadata": {},
     "output_type": "execute_result"
    }
   ],
   "source": [
    "incorrect_tagged_cases_regex_boff = [j for i, j in enumerate(zip(tagged_seq_mod_viterbi_2, test_run_base)) if j[0]!=j[1]]\n",
    "incorrect_tagged_cases_regex_boff"
   ]
  },
  {
   "cell_type": "markdown",
   "metadata": {},
   "source": [
    "## COMPARE TAGGING ACCURACIES OF THE MODIFICATIONS WITH THE VANILLA VITERBI ALGORITHM:"
   ]
  },
  {
   "cell_type": "markdown",
   "metadata": {},
   "source": [
    "**FOLLOWING ARE THE ACCURACIES OF VITERBI ALGORITHMS ON TEST SET:**\n",
    "    \n",
    "**1. VANILLA VITERBI: 91.39%**\n",
    "\n",
    "**2. VITERBI WITH TRANSITION PROBABILITY FOR UNKNOWN WORDS: 93.89%**\n",
    "\n",
    "**3. VITERBI WITH REGEX POS TAGGING: 96.26%**"
   ]
  },
  {
   "cell_type": "markdown",
   "metadata": {},
   "source": [
    "### EVALUATION ON TEST SENTENCES AS GIVEN PART OF \"Test_sentences.txt\""
   ]
  },
  {
   "cell_type": "markdown",
   "metadata": {},
   "source": [
    "Read the data from file and prepare the input data for viterbi algorithm:"
   ]
  },
  {
   "cell_type": "code",
   "execution_count": 32,
   "metadata": {},
   "outputs": [
    {
     "name": "stdout",
     "output_type": "stream",
     "text": [
      "['Android is a mobile operating system developed by Google.', 'Android has been the best-selling OS worldwide on smartphones since 2011 and on tablets since 2013.', \"Google and Twitter made a deal in 2015 that gave Google access to Twitter's firehose.\", 'Twitter is an online news and social networking service on which users post and interact with messages known as tweets.', 'Before entering politics, Donald Trump was a domineering businessman and a television personality.', 'The 2018 FIFA World Cup is the 21st FIFA World Cup, an international football tournament contested once every four years.', 'This is the first World Cup to be held in Eastern Europe and the 11th time that it has been held in Europe.', 'Show me the cheapest round trips from Dallas to Atlanta', 'I would like to see flights from Denver to Philadelphia.', 'Show me the price of the flights leaving Atlanta at about 3 in the afternoon and arriving in San Francisco.', 'NASA invited social media users to experience the launch of ICESAT-2 Satellite.', '', '', '']\n"
     ]
    }
   ],
   "source": [
    "with open(\"Test_sentences.txt\") as file: \n",
    "    Lines = file.readlines() \n",
    "    Lines = [line.strip() for line in Lines] \n",
    "\n",
    "print(Lines)"
   ]
  },
  {
   "cell_type": "markdown",
   "metadata": {},
   "source": [
    "Tokenize the evaluation sentences"
   ]
  },
  {
   "cell_type": "code",
   "execution_count": 33,
   "metadata": {},
   "outputs": [
    {
     "name": "stdout",
     "output_type": "stream",
     "text": [
      "evaluation_sentencese:  [['Android', 'is', 'a', 'mobile', 'operating', 'system', 'developed', 'by', 'Google', '.'], ['Android', 'has', 'been', 'the', 'best-selling', 'OS', 'worldwide', 'on', 'smartphones', 'since', '2011', 'and', 'on', 'tablets', 'since', '2013', '.'], ['Google', 'and', 'Twitter', 'made', 'a', 'deal', 'in', '2015', 'that', 'gave', 'Google', 'access', 'to', 'Twitter', \"'s\", 'firehose', '.'], ['Twitter', 'is', 'an', 'online', 'news', 'and', 'social', 'networking', 'service', 'on', 'which', 'users', 'post', 'and', 'interact', 'with', 'messages', 'known', 'as', 'tweets', '.'], ['Before', 'entering', 'politics', ',', 'Donald', 'Trump', 'was', 'a', 'domineering', 'businessman', 'and', 'a', 'television', 'personality', '.'], ['The', '2018', 'FIFA', 'World', 'Cup', 'is', 'the', '21st', 'FIFA', 'World', 'Cup', ',', 'an', 'international', 'football', 'tournament', 'contested', 'once', 'every', 'four', 'years', '.'], ['This', 'is', 'the', 'first', 'World', 'Cup', 'to', 'be', 'held', 'in', 'Eastern', 'Europe', 'and', 'the', '11th', 'time', 'that', 'it', 'has', 'been', 'held', 'in', 'Europe', '.'], ['Show', 'me', 'the', 'cheapest', 'round', 'trips', 'from', 'Dallas', 'to', 'Atlanta'], ['I', 'would', 'like', 'to', 'see', 'flights', 'from', 'Denver', 'to', 'Philadelphia', '.'], ['Show', 'me', 'the', 'price', 'of', 'the', 'flights', 'leaving', 'Atlanta', 'at', 'about', '3', 'in', 'the', 'afternoon', 'and', 'arriving', 'in', 'San', 'Francisco', '.'], ['NASA', 'invited', 'social', 'media', 'users', 'to', 'experience', 'the', 'launch', 'of', 'ICESAT-2', 'Satellite', '.'], [], [], []]\n"
     ]
    }
   ],
   "source": [
    "evaluation_sentences = [word_tokenize(line) for line in Lines]\n",
    "evaluation_sentences = [sent for sent in evaluation_sentences]\n",
    "print(\"evaluation_sentencese: \", evaluation_sentences)"
   ]
  },
  {
   "cell_type": "markdown",
   "metadata": {},
   "source": [
    "#### Tag the data using nltk tagger to compare accuracy.\n",
    "\n",
    "Let us tag the evaluation sentences using the nltk pos_tag_sents. This will serve as a tagged baseline for us to compare the accuracy of our model"
   ]
  },
  {
   "cell_type": "code",
   "execution_count": 34,
   "metadata": {
    "scrolled": true
   },
   "outputs": [
    {
     "name": "stdout",
     "output_type": "stream",
     "text": [
      "[[('Android', 'NOUN'), ('is', 'VERB'), ('a', 'DET'), ('mobile', 'ADJ'), ('operating', 'NOUN'), ('system', 'NOUN'), ('developed', 'VERB'), ('by', 'ADP'), ('Google', 'NOUN'), ('.', '.')], [('Android', 'NOUN'), ('has', 'VERB'), ('been', 'VERB'), ('the', 'DET'), ('best-selling', 'ADJ'), ('OS', 'NOUN'), ('worldwide', 'NOUN'), ('on', 'ADP'), ('smartphones', 'NOUN'), ('since', 'ADP'), ('2011', 'NUM'), ('and', 'CONJ'), ('on', 'ADP'), ('tablets', 'NOUN'), ('since', 'ADP'), ('2013', 'NUM'), ('.', '.')], [('Google', 'NOUN'), ('and', 'CONJ'), ('Twitter', 'NOUN'), ('made', 'VERB'), ('a', 'DET'), ('deal', 'NOUN'), ('in', 'ADP'), ('2015', 'NUM'), ('that', 'DET'), ('gave', 'VERB'), ('Google', 'NOUN'), ('access', 'NOUN'), ('to', 'PRT'), ('Twitter', 'NOUN'), (\"'s\", 'PRT'), ('firehose', 'NOUN'), ('.', '.')], [('Twitter', 'NOUN'), ('is', 'VERB'), ('an', 'DET'), ('online', 'ADJ'), ('news', 'NOUN'), ('and', 'CONJ'), ('social', 'ADJ'), ('networking', 'NOUN'), ('service', 'NOUN'), ('on', 'ADP'), ('which', 'DET'), ('users', 'NOUN'), ('post', 'NOUN'), ('and', 'CONJ'), ('interact', 'NOUN'), ('with', 'ADP'), ('messages', 'NOUN'), ('known', 'VERB'), ('as', 'ADP'), ('tweets', 'NOUN'), ('.', '.')], [('Before', 'ADP'), ('entering', 'VERB'), ('politics', 'NOUN'), (',', '.'), ('Donald', 'NOUN'), ('Trump', 'NOUN'), ('was', 'VERB'), ('a', 'DET'), ('domineering', 'ADJ'), ('businessman', 'NOUN'), ('and', 'CONJ'), ('a', 'DET'), ('television', 'NOUN'), ('personality', 'NOUN'), ('.', '.')], [('The', 'DET'), ('2018', 'NUM'), ('FIFA', 'NOUN'), ('World', 'NOUN'), ('Cup', 'NOUN'), ('is', 'VERB'), ('the', 'DET'), ('21st', 'NUM'), ('FIFA', 'NOUN'), ('World', 'NOUN'), ('Cup', 'NOUN'), (',', '.'), ('an', 'DET'), ('international', 'ADJ'), ('football', 'NOUN'), ('tournament', 'NOUN'), ('contested', 'VERB'), ('once', 'ADV'), ('every', 'DET'), ('four', 'NUM'), ('years', 'NOUN'), ('.', '.')], [('This', 'DET'), ('is', 'VERB'), ('the', 'DET'), ('first', 'ADJ'), ('World', 'NOUN'), ('Cup', 'NOUN'), ('to', 'PRT'), ('be', 'VERB'), ('held', 'VERB'), ('in', 'ADP'), ('Eastern', 'NOUN'), ('Europe', 'NOUN'), ('and', 'CONJ'), ('the', 'DET'), ('11th', 'NUM'), ('time', 'NOUN'), ('that', 'ADP'), ('it', 'PRON'), ('has', 'VERB'), ('been', 'VERB'), ('held', 'VERB'), ('in', 'ADP'), ('Europe', 'NOUN'), ('.', '.')], [('Show', 'VERB'), ('me', 'PRON'), ('the', 'DET'), ('cheapest', 'ADJ'), ('round', 'NOUN'), ('trips', 'NOUN'), ('from', 'ADP'), ('Dallas', 'NOUN'), ('to', 'PRT'), ('Atlanta', 'VERB')], [('I', 'PRON'), ('would', 'VERB'), ('like', 'VERB'), ('to', 'PRT'), ('see', 'VERB'), ('flights', 'NOUN'), ('from', 'ADP'), ('Denver', 'NOUN'), ('to', 'PRT'), ('Philadelphia', 'NOUN'), ('.', '.')], [('Show', 'VERB'), ('me', 'PRON'), ('the', 'DET'), ('price', 'NOUN'), ('of', 'ADP'), ('the', 'DET'), ('flights', 'NOUN'), ('leaving', 'VERB'), ('Atlanta', 'NOUN'), ('at', 'ADP'), ('about', 'ADV'), ('3', 'NUM'), ('in', 'ADP'), ('the', 'DET'), ('afternoon', 'NOUN'), ('and', 'CONJ'), ('arriving', 'NOUN'), ('in', 'ADP'), ('San', 'NOUN'), ('Francisco', 'NOUN'), ('.', '.')], [('NASA', 'NOUN'), ('invited', 'VERB'), ('social', 'ADJ'), ('media', 'NOUN'), ('users', 'NOUN'), ('to', 'PRT'), ('experience', 'VERB'), ('the', 'DET'), ('launch', 'NOUN'), ('of', 'ADP'), ('ICESAT-2', 'NOUN'), ('Satellite', 'NOUN'), ('.', '.')], [], [], []]\n"
     ]
    }
   ],
   "source": [
    "evaluation_sentences_run = nltk.pos_tag_sents(evaluation_sentences, tagset = 'universal')\n",
    "print(evaluation_sentences_run)"
   ]
  },
  {
   "cell_type": "markdown",
   "metadata": {},
   "source": [
    "We can see Atlanta incorrectly tagged as VERB. Lets correct it as NOUN"
   ]
  },
  {
   "cell_type": "code",
   "execution_count": 35,
   "metadata": {},
   "outputs": [],
   "source": [
    "evaluation_sentences_run_base = [tup for sent in evaluation_sentences_run for tup in sent]\n",
    "for i, tup in enumerate(evaluation_sentences_run_base):\n",
    "    if tup[0] == 'Atlanta':\n",
    "        evaluation_sentences_run_base[i] = ('Atlanta', 'NOUN')\n",
    "evaluation_sentences_words = [tup[0] for sent in evaluation_sentences_run for tup in sent]"
   ]
  },
  {
   "cell_type": "markdown",
   "metadata": {},
   "source": [
    "### 1. EVALUATION ON VANILLA VITERBI:"
   ]
  },
  {
   "cell_type": "code",
   "execution_count": 36,
   "metadata": {
    "scrolled": true
   },
   "outputs": [
    {
     "name": "stdout",
     "output_type": "stream",
     "text": [
      "Time taken in seconds:  59.968430280685425\n"
     ]
    }
   ],
   "source": [
    "# tagging the test sentences\n",
    "start = time.time()\n",
    "eval_tagged_seq_vanilla_viterbi = Viterbi(evaluation_sentences_words)\n",
    "end = time.time()\n",
    "difference = end-start\n",
    "\n",
    "print(\"Time taken in seconds: \", difference)"
   ]
  },
  {
   "cell_type": "code",
   "execution_count": 37,
   "metadata": {},
   "outputs": [
    {
     "name": "stdout",
     "output_type": "stream",
     "text": [
      "Number of words correctly tagged:  138\n",
      "Total Number of words:  181\n",
      "Accuracy:  0.7624309392265194\n"
     ]
    }
   ],
   "source": [
    "sample_check_vanilla = [i for i, j in zip(eval_tagged_seq_vanilla_viterbi, evaluation_sentences_run_base) if i == j] \n",
    "print(\"Number of words correctly tagged: \", len(sample_check_vanilla))\n",
    "print(\"Total Number of words: \", len(eval_tagged_seq_vanilla_viterbi))\n",
    "accuracy = len(sample_check_vanilla)/len(eval_tagged_seq_vanilla_viterbi)\n",
    "print(\"Accuracy: \", accuracy)"
   ]
  },
  {
   "cell_type": "markdown",
   "metadata": {},
   "source": [
    "**Incorrectly tagged words by vanilla viterbi**"
   ]
  },
  {
   "cell_type": "code",
   "execution_count": 38,
   "metadata": {},
   "outputs": [
    {
     "data": {
      "text/plain": [
       "[(('Android', '.'), ('Android', 'NOUN')),\n",
       " (('Google', '.'), ('Google', 'NOUN')),\n",
       " (('Android', '.'), ('Android', 'NOUN')),\n",
       " (('OS', '.'), ('OS', 'NOUN')),\n",
       " (('worldwide', '.'), ('worldwide', 'NOUN')),\n",
       " (('smartphones', '.'), ('smartphones', 'NOUN')),\n",
       " (('2011', '.'), ('2011', 'NUM')),\n",
       " (('2013', '.'), ('2013', 'NUM')),\n",
       " (('Google', '.'), ('Google', 'NOUN')),\n",
       " (('Twitter', '.'), ('Twitter', 'NOUN')),\n",
       " (('2015', '.'), ('2015', 'NUM')),\n",
       " (('Google', '.'), ('Google', 'NOUN')),\n",
       " (('Twitter', '.'), ('Twitter', 'NOUN')),\n",
       " ((\"'s\", 'VERB'), (\"'s\", 'PRT')),\n",
       " (('firehose', '.'), ('firehose', 'NOUN')),\n",
       " (('Twitter', '.'), ('Twitter', 'NOUN')),\n",
       " (('online', '.'), ('online', 'ADJ')),\n",
       " (('interact', '.'), ('interact', 'NOUN')),\n",
       " (('messages', '.'), ('messages', 'NOUN')),\n",
       " (('tweets', '.'), ('tweets', 'NOUN')),\n",
       " (('domineering', '.'), ('domineering', 'ADJ')),\n",
       " (('personality', '.'), ('personality', 'NOUN')),\n",
       " (('2018', '.'), ('2018', 'NUM')),\n",
       " (('FIFA', '.'), ('FIFA', 'NOUN')),\n",
       " (('Cup', '.'), ('Cup', 'NOUN')),\n",
       " (('21st', '.'), ('21st', 'NUM')),\n",
       " (('FIFA', '.'), ('FIFA', 'NOUN')),\n",
       " (('Cup', '.'), ('Cup', 'NOUN')),\n",
       " (('tournament', '.'), ('tournament', 'NOUN')),\n",
       " (('contested', '.'), ('contested', 'VERB')),\n",
       " (('Cup', '.'), ('Cup', 'NOUN')),\n",
       " (('11th', 'ADJ'), ('11th', 'NUM')),\n",
       " (('Show', 'NOUN'), ('Show', 'VERB')),\n",
       " (('trips', '.'), ('trips', 'NOUN')),\n",
       " (('like', 'ADP'), ('like', 'VERB')),\n",
       " (('Show', 'NOUN'), ('Show', 'VERB')),\n",
       " (('about', 'ADP'), ('about', 'ADV')),\n",
       " (('arriving', '.'), ('arriving', 'NOUN')),\n",
       " (('NASA', '.'), ('NASA', 'NOUN')),\n",
       " (('invited', '.'), ('invited', 'VERB')),\n",
       " (('experience', 'NOUN'), ('experience', 'VERB')),\n",
       " (('ICESAT-2', '.'), ('ICESAT-2', 'NOUN')),\n",
       " (('Satellite', '.'), ('Satellite', 'NOUN'))]"
      ]
     },
     "execution_count": 38,
     "metadata": {},
     "output_type": "execute_result"
    }
   ],
   "source": [
    "incorrect_tagged_cases_vanilla_viterbi = [j for i, j in enumerate(zip(eval_tagged_seq_vanilla_viterbi, evaluation_sentences_run_base)) if j[0]!=j[1]]\n",
    "incorrect_tagged_cases_vanilla_viterbi"
   ]
  },
  {
   "cell_type": "markdown",
   "metadata": {},
   "source": [
    "### 2. EVALUATION ON MODIFIED VITERBI WITH TRANSITION PROBABILITY"
   ]
  },
  {
   "cell_type": "code",
   "execution_count": 39,
   "metadata": {},
   "outputs": [
    {
     "name": "stdout",
     "output_type": "stream",
     "text": [
      "Time taken in seconds:  51.748204946517944\n"
     ]
    }
   ],
   "source": [
    "# tagging the test sentences\n",
    "start = time.time()\n",
    "eval_tagged_seq_viterbi_proba = Viterbi_with_transition_proba(evaluation_sentences_words)\n",
    "end = time.time()\n",
    "difference = end-start\n",
    "\n",
    "print(\"Time taken in seconds: \", difference)"
   ]
  },
  {
   "cell_type": "code",
   "execution_count": 40,
   "metadata": {},
   "outputs": [
    {
     "name": "stdout",
     "output_type": "stream",
     "text": [
      "Number of words correctly tagged:  157\n",
      "Total Number of words:  181\n",
      "Accuracy:  0.8674033149171271\n"
     ]
    }
   ],
   "source": [
    "sample_check_vit_proba = [i for i, j in zip(eval_tagged_seq_viterbi_proba, evaluation_sentences_run_base) if i == j] \n",
    "print(\"Number of words correctly tagged: \", len(sample_check_vit_proba))\n",
    "print(\"Total Number of words: \", len(eval_tagged_seq_viterbi_proba))\n",
    "accuracy = len(sample_check_vit_proba)/len(eval_tagged_seq_viterbi_proba)\n",
    "print(\"Accuracy: \", accuracy)"
   ]
  },
  {
   "cell_type": "markdown",
   "metadata": {},
   "source": [
    "**Incorrectly tagged words by viterbi with only transition proba for unknow words**"
   ]
  },
  {
   "cell_type": "code",
   "execution_count": 41,
   "metadata": {},
   "outputs": [
    {
     "data": {
      "text/plain": [
       "[(('Google', 'DET'), ('Google', 'NOUN')),\n",
       " (('smartphones', 'DET'), ('smartphones', 'NOUN')),\n",
       " (('2011', 'DET'), ('2011', 'NUM')),\n",
       " (('2013', 'DET'), ('2013', 'NUM')),\n",
       " (('2015', 'DET'), ('2015', 'NUM')),\n",
       " (('that', 'ADP'), ('that', 'DET')),\n",
       " (('Google', 'X'), ('Google', 'NOUN')),\n",
       " (('Twitter', 'VERB'), ('Twitter', 'NOUN')),\n",
       " (('firehose', 'VERB'), ('firehose', 'NOUN')),\n",
       " (('online', 'NOUN'), ('online', 'ADJ')),\n",
       " (('messages', 'DET'), ('messages', 'NOUN')),\n",
       " (('tweets', 'DET'), ('tweets', 'NOUN')),\n",
       " (('domineering', 'NOUN'), ('domineering', 'ADJ')),\n",
       " (('2018', 'NOUN'), ('2018', 'NUM')),\n",
       " (('21st', 'NOUN'), ('21st', 'NUM')),\n",
       " (('contested', 'NOUN'), ('contested', 'VERB')),\n",
       " (('11th', 'ADJ'), ('11th', 'NUM')),\n",
       " (('Show', 'NOUN'), ('Show', 'VERB')),\n",
       " (('like', 'ADP'), ('like', 'VERB')),\n",
       " (('Show', 'NOUN'), ('Show', 'VERB')),\n",
       " (('about', 'ADP'), ('about', 'ADV')),\n",
       " (('invited', 'NOUN'), ('invited', 'VERB')),\n",
       " (('experience', 'NOUN'), ('experience', 'VERB')),\n",
       " (('ICESAT-2', 'DET'), ('ICESAT-2', 'NOUN'))]"
      ]
     },
     "execution_count": 41,
     "metadata": {},
     "output_type": "execute_result"
    }
   ],
   "source": [
    "incorrect_tagged_cases_viterbi_proba = [j for i, j in enumerate(zip(eval_tagged_seq_viterbi_proba, evaluation_sentences_run_base)) if j[0]!=j[1]]\n",
    "incorrect_tagged_cases_viterbi_proba"
   ]
  },
  {
   "cell_type": "markdown",
   "metadata": {},
   "source": [
    "### 3. EVALUATION ON MODIFIED VITERBI WITH REGEX BACKOFF"
   ]
  },
  {
   "cell_type": "code",
   "execution_count": 42,
   "metadata": {},
   "outputs": [
    {
     "name": "stdout",
     "output_type": "stream",
     "text": [
      "Time taken in seconds:  51.64611506462097\n"
     ]
    }
   ],
   "source": [
    "# tagging the test sentences\n",
    "start = time.time()\n",
    "eval_tagged_seq_viterbi_with_regex = Viterbi_with_regex_backoff(evaluation_sentences_words)\n",
    "end = time.time()\n",
    "difference = end-start\n",
    "\n",
    "print(\"Time taken in seconds: \", difference)"
   ]
  },
  {
   "cell_type": "code",
   "execution_count": 43,
   "metadata": {},
   "outputs": [
    {
     "name": "stdout",
     "output_type": "stream",
     "text": [
      "Number of words correctly tagged:  170\n",
      "Total Number of words:  181\n",
      "Accuracy:  0.9392265193370166\n"
     ]
    }
   ],
   "source": [
    "sample_check_vit_regx = [i for i, j in zip(eval_tagged_seq_viterbi_with_regex, evaluation_sentences_run_base) if i == j] \n",
    "print(\"Number of words correctly tagged: \", len(sample_check_vit_regx))\n",
    "print(\"Total Number of words: \", len(eval_tagged_seq_viterbi_with_regex))\n",
    "accuracy = len(sample_check_vit_regx)/len(eval_tagged_seq_viterbi_with_regex)\n",
    "print(\"Accuracy: \", accuracy)"
   ]
  },
  {
   "cell_type": "markdown",
   "metadata": {},
   "source": [
    "**Incorrectly tagged words by viterbi with regex based tagger for unknown words**"
   ]
  },
  {
   "cell_type": "code",
   "execution_count": 44,
   "metadata": {},
   "outputs": [
    {
     "data": {
      "text/plain": [
       "[(('that', 'ADP'), ('that', 'DET')),\n",
       " (('firehose', 'VERB'), ('firehose', 'NOUN')),\n",
       " (('online', 'NOUN'), ('online', 'ADJ')),\n",
       " (('domineering', 'VERB'), ('domineering', 'ADJ')),\n",
       " (('11th', 'ADJ'), ('11th', 'NUM')),\n",
       " (('Show', 'NOUN'), ('Show', 'VERB')),\n",
       " (('like', 'ADP'), ('like', 'VERB')),\n",
       " (('Show', 'NOUN'), ('Show', 'VERB')),\n",
       " (('about', 'ADP'), ('about', 'ADV')),\n",
       " (('arriving', 'VERB'), ('arriving', 'NOUN')),\n",
       " (('experience', 'NOUN'), ('experience', 'VERB'))]"
      ]
     },
     "execution_count": 44,
     "metadata": {},
     "output_type": "execute_result"
    }
   ],
   "source": [
    "incorrect_tagged_cases_viterbi_regex = [j for i, j in enumerate(zip(eval_tagged_seq_viterbi_with_regex, evaluation_sentences_run_base)) if j[0]!=j[1]]\n",
    "incorrect_tagged_cases_viterbi_regex"
   ]
  },
  {
   "cell_type": "markdown",
   "metadata": {},
   "source": [
    "\n",
    "**FOLLOWING ARE THE ACCURACIES OF VITERBI ALGORITHMS ON EVALUATION SET:**\n",
    " \n",
    "\n",
    "**1. VANILLA VITERBI: 76.24%**\n",
    "\n",
    "**2. VITERBI WITH TRANSITION PROBABILITY FOR UNKNOWN WORDS: 86.74%**\n",
    "\n",
    "**3. VITERBI WITH REGEX POS TAGGING: 93.92%**"
   ]
  },
  {
   "cell_type": "markdown",
   "metadata": {},
   "source": [
    "### List down cases which were incorrectly tagged by original POS tagger and got corrected by your modifications"
   ]
  },
  {
   "cell_type": "markdown",
   "metadata": {},
   "source": [
    "### COMPARISON ON TEST SET:"
   ]
  },
  {
   "cell_type": "markdown",
   "metadata": {},
   "source": [
    "Utility method which accepts 3 input.\n",
    "      1. modified_viterbi_tags - tagger o/p of modified viterbi\n",
    "      2. vanilla_viterbi_tags - output of vanilla viterbi\n",
    "      3. base_tags - Orginal tag\n",
    "\n",
    "Returns a list which contains those tags correctly tagged by modified viterbi compared to vanilla viterbi.\n",
    "\n",
    "Output will be list of tuples, \n",
    "      1. on 0th position of tuple will be correct tag by modified viterbi\n",
    "      2. on 1st position of tuple will be incorrect tag by vanilla viterbi\n",
    "      "
   ]
  },
  {
   "cell_type": "code",
   "execution_count": 45,
   "metadata": {},
   "outputs": [],
   "source": [
    "def check_corrected(modified_viterbi_tags, vanilla_viterbi_tags, base_tags):\n",
    "    corrected = [(i, j) for i, j, k  in zip(modified_viterbi_tags, vanilla_viterbi_tags, base_tags) if (i == k) and (i != j)]\n",
    "    return corrected"
   ]
  },
  {
   "cell_type": "markdown",
   "metadata": {},
   "source": [
    "#### WORDS CORRECTLY CALSSIFIED BY VITERBI WITH TRANSITION PROBABILITY COMPARED TO VANILLA VITERBI ON TEST SET:"
   ]
  },
  {
   "cell_type": "code",
   "execution_count": 46,
   "metadata": {},
   "outputs": [
    {
     "data": {
      "text/plain": [
       "[(('Overseas', 'NOUN'), ('Overseas', '.')),\n",
       " (('Unemployment', 'NOUN'), ('Unemployment', '.')),\n",
       " (('paycheck', 'NOUN'), ('paycheck', '.')),\n",
       " (('Funded', 'VERB'), ('Funded', '.')),\n",
       " (('protocols', 'NOUN'), ('protocols', '.')),\n",
       " (('existed', 'VERB'), ('existed', '.')),\n",
       " (('exists', 'VERB'), ('exists', '.')),\n",
       " (('acquirers', 'NOUN'), ('acquirers', '.')),\n",
       " (('noticed', 'VERB'), ('noticed', '.')),\n",
       " (('slate', 'NOUN'), ('slate', '.')),\n",
       " (('schoolchildren', 'NOUN'), ('schoolchildren', '.')),\n",
       " (('Catch-22', 'NOUN'), ('Catch-22', '.')),\n",
       " (('apologizing', 'VERB'), ('apologizing', '.')),\n",
       " (('indulging', 'VERB'), ('indulging', '.')),\n",
       " (('addiction', 'NOUN'), ('addiction', '.')),\n",
       " (('Mogavero', 'NOUN'), ('Mogavero', '.')),\n",
       " (('Piscataway', 'NOUN'), ('Piscataway', '.')),\n",
       " (('exploit', 'VERB'), ('exploit', '.')),\n",
       " (('reds', 'NOUN'), ('reds', '.')),\n",
       " (('Rhone', 'NOUN'), ('Rhone', '.')),\n",
       " (('copied', 'VERB'), ('copied', '.')),\n",
       " (('octogenarians', 'NOUN'), ('octogenarians', '.')),\n",
       " (('belfries', 'NOUN'), ('belfries', '.')),\n",
       " (('Anglia', 'NOUN'), ('Anglia', '.')),\n",
       " (('more', 'ADJ'), ('more', 'ADV')),\n",
       " (('Communication', 'NOUN'), ('Communication', '.')),\n",
       " (('importer', 'NOUN'), ('importer', '.')),\n",
       " (('red-flag', 'VERB'), ('red-flag', '.')),\n",
       " (('mail', 'NOUN'), ('mail', '.')),\n",
       " (('Sloan', 'NOUN'), ('Sloan', '.')),\n",
       " (('helps', 'VERB'), ('helps', '.')),\n",
       " (('reluctance', 'NOUN'), ('reluctance', '.')),\n",
       " (('lobbies', 'NOUN'), ('lobbies', '.')),\n",
       " (('modification', 'NOUN'), ('modification', '.')),\n",
       " (('*-130', 'X'), ('*-130', '.')),\n",
       " (('wield', 'VERB'), ('wield', '.')),\n",
       " (('blindfold', 'NOUN'), ('blindfold', '.')),\n",
       " (('recommending', 'VERB'), ('recommending', '.')),\n",
       " (('Anything', 'NOUN'), ('Anything', '.')),\n",
       " (('protein', 'NOUN'), ('protein', '.')),\n",
       " (('Fundamentalists', 'NOUN'), ('Fundamentalists', '.')),\n",
       " (('workplace', 'NOUN'), ('workplace', '.')),\n",
       " (('word-processing', 'NOUN'), ('word-processing', '.')),\n",
       " (('Iran-Contra', 'NOUN'), ('Iran-Contra', '.')),\n",
       " (('approaches', 'NOUN'), ('approaches', '.')),\n",
       " (('pair', 'VERB'), ('pair', '.')),\n",
       " (('competitions', 'NOUN'), ('competitions', '.')),\n",
       " (('coffee', 'NOUN'), ('coffee', '.')),\n",
       " (('spurring', 'VERB'), ('spurring', '.')),\n",
       " (('platinum', 'NOUN'), ('platinum', '.')),\n",
       " (('Johnson-era', 'NOUN'), ('Johnson-era', '.')),\n",
       " (('mandates', 'VERB'), ('mandates', '.')),\n",
       " (('concerned', 'VERB'), ('concerned', '.')),\n",
       " (('Corrigan', 'NOUN'), ('Corrigan', '.')),\n",
       " (('derivatives', 'NOUN'), ('derivatives', '.')),\n",
       " (('Demand', 'NOUN'), ('Demand', '.')),\n",
       " (('Berson', 'NOUN'), ('Berson', '.')),\n",
       " (('fledgling', 'NOUN'), ('fledgling', '.')),\n",
       " (('depend', 'VERB'), ('depend', '.')),\n",
       " (('longevity', 'NOUN'), ('longevity', '.')),\n",
       " (('off', 'PRT'), ('off', 'ADP')),\n",
       " (('renewing', 'VERB'), ('renewing', '.')),\n",
       " (('insurgents', 'NOUN'), ('insurgents', '.')),\n",
       " (('limitation', 'NOUN'), ('limitation', '.')),\n",
       " (('leash', 'NOUN'), ('leash', '.')),\n",
       " (('sue', 'VERB'), ('sue', '.')),\n",
       " (('skill', 'NOUN'), ('skill', '.')),\n",
       " (('up', 'PRT'), ('up', 'ADV')),\n",
       " (('Having', 'VERB'), ('Having', '.')),\n",
       " (('element', 'NOUN'), ('element', '.')),\n",
       " (('Breeden', 'NOUN'), ('Breeden', '.')),\n",
       " (('breakers', 'NOUN'), ('breakers', '.')),\n",
       " (('pasta', 'NOUN'), ('pasta', '.')),\n",
       " (('Smaby', 'NOUN'), ('Smaby', '.')),\n",
       " (('properties', 'NOUN'), ('properties', '.')),\n",
       " (('INTER-TEL', 'NOUN'), ('INTER-TEL', '.')),\n",
       " (('Gelles', 'NOUN'), ('Gelles', '.')),\n",
       " (('Schroder', 'NOUN'), ('Schroder', '.')),\n",
       " (('bothered', 'VERB'), ('bothered', '.')),\n",
       " (('inverse', 'NOUN'), ('inverse', '.')),\n",
       " (('Hazell', 'NOUN'), ('Hazell', '.')),\n",
       " (('auditor', 'NOUN'), ('auditor', '.')),\n",
       " (('vested', 'VERB'), ('vested', '.')),\n",
       " (('stock-price', 'NOUN'), ('stock-price', '.')),\n",
       " (('spurned', 'VERB'), ('spurned', '.')),\n",
       " (('crunch', 'NOUN'), ('crunch', '.')),\n",
       " (('crunch', 'NOUN'), ('crunch', '.')),\n",
       " (('bang', 'NOUN'), ('bang', '.')),\n",
       " (('bang', 'NOUN'), ('bang', '.')),\n",
       " (('bang', 'NOUN'), ('bang', '.')),\n",
       " (('rentals', 'NOUN'), ('rentals', '.')),\n",
       " (('microprocessor', 'NOUN'), ('microprocessor', '.')),\n",
       " (('megabytes', 'NOUN'), ('megabytes', '.')),\n",
       " (('storm', 'NOUN'), ('storm', '.')),\n",
       " (('Citizens', 'NOUN'), ('Citizens', '.')),\n",
       " (('pressed', 'VERB'), ('pressed', '.')),\n",
       " (('concerned', 'VERB'), ('concerned', '.')),\n",
       " (('developments', 'NOUN'), ('developments', '.')),\n",
       " (('saved', 'VERB'), ('saved', '.')),\n",
       " (('reclaim', 'VERB'), ('reclaim', '.')),\n",
       " (('compilation', 'NOUN'), ('compilation', '.')),\n",
       " (('blames', 'VERB'), ('blames', '.')),\n",
       " (('actor', 'NOUN'), ('actor', '.')),\n",
       " (('inheritor', 'NOUN'), ('inheritor', '.')),\n",
       " (('fan', 'NOUN'), ('fan', '.')),\n",
       " (('cable', 'NOUN'), ('cable', '.')),\n",
       " (('DiLoreto', 'NOUN'), ('DiLoreto', '.')),\n",
       " (('container', 'NOUN'), ('container', '.')),\n",
       " (('FreudToy', 'NOUN'), ('FreudToy', '.')),\n",
       " (('pillow', 'NOUN'), ('pillow', '.')),\n",
       " (('likeness', 'NOUN'), ('likeness', '.')),\n",
       " (('Freud', 'NOUN'), ('Freud', '.')),\n",
       " (('longtime', 'NOUN'), ('longtime', '.')),\n",
       " (('scholar', 'NOUN'), ('scholar', '.')),\n",
       " (('frustrating', 'VERB'), ('frustrating', '.')),\n",
       " (('science', 'NOUN'), ('science', '.')),\n",
       " (('invent', 'VERB'), ('invent', '.')),\n",
       " (('Walkman', 'NOUN'), ('Walkman', '.')),\n",
       " (('IRAs', 'NOUN'), ('IRAs', '.')),\n",
       " (('segmenting', 'VERB'), ('segmenting', '.')),\n",
       " (('equip', 'VERB'), ('equip', '.')),\n",
       " ((\"'s\", 'PRT'), (\"'s\", 'VERB')),\n",
       " (('trip', 'NOUN'), ('trip', '.')),\n",
       " (('mesothelioma', 'NOUN'), ('mesothelioma', '.')),\n",
       " (('asbestosis', 'NOUN'), ('asbestosis', '.')),\n",
       " (('Tokyu', 'NOUN'), ('Tokyu', '.')),\n",
       " (('verge', 'NOUN'), ('verge', '.')),\n",
       " (('enabled', 'VERB'), ('enabled', '.')),\n",
       " (('cocoa', 'NOUN'), ('cocoa', '.')),\n",
       " (('goodies', 'NOUN'), ('goodies', '.')),\n",
       " (('reins', 'NOUN'), ('reins', '.')),\n",
       " (('I.', 'NOUN'), ('I.', '.')),\n",
       " (('platinum', 'NOUN'), ('platinum', '.'))]"
      ]
     },
     "execution_count": 46,
     "metadata": {},
     "output_type": "execute_result"
    }
   ],
   "source": [
    "check_corrected(tagged_seq_mod_viterbi_1, tagged_seq_vanilla_viterbi, test_run_base)"
   ]
  },
  {
   "cell_type": "markdown",
   "metadata": {},
   "source": [
    "#### WORDS CORRECTLY CALSSIFIED BY VITERBI WITH REGEX TRAGGER BACKOFF COMPARED TO VANILLA VITERBI ON TEST SET:"
   ]
  },
  {
   "cell_type": "code",
   "execution_count": 47,
   "metadata": {},
   "outputs": [
    {
     "data": {
      "text/plain": [
       "[(('Overseas', 'NOUN'), ('Overseas', '.')),\n",
       " (('pre-1917', 'ADJ'), ('pre-1917', '.')),\n",
       " (('Unemployment', 'NOUN'), ('Unemployment', '.')),\n",
       " (('paycheck', 'NOUN'), ('paycheck', '.')),\n",
       " (('reasonably', 'ADV'), ('reasonably', '.')),\n",
       " (('Tokio', 'NOUN'), ('Tokio', '.')),\n",
       " (('protocols', 'NOUN'), ('protocols', '.')),\n",
       " (('existed', 'VERB'), ('existed', '.')),\n",
       " (('20.5', 'NUM'), ('20.5', '.')),\n",
       " (('polarized', 'VERB'), ('polarized', '.')),\n",
       " (('acquirers', 'NOUN'), ('acquirers', '.')),\n",
       " (('noticed', 'VERB'), ('noticed', '.')),\n",
       " (('154.2', 'NUM'), ('154.2', '.')),\n",
       " (('touched', 'VERB'), ('touched', '.')),\n",
       " (('schoolchildren', 'NOUN'), ('schoolchildren', '.')),\n",
       " (('Catch-22', 'NOUN'), ('Catch-22', '.')),\n",
       " (('cross-border', 'ADJ'), ('cross-border', '.')),\n",
       " (('emigres', 'NOUN'), ('emigres', '.')),\n",
       " (('*T*-133', 'X'), ('*T*-133', '.')),\n",
       " (('apologizing', 'VERB'), ('apologizing', '.')),\n",
       " (('indulging', 'VERB'), ('indulging', '.')),\n",
       " (('1953', 'NUM'), ('1953', '.')),\n",
       " (('1955', 'NUM'), ('1955', '.')),\n",
       " (('pre-existing', 'ADJ'), ('pre-existing', '.')),\n",
       " (('addiction', 'NOUN'), ('addiction', '.')),\n",
       " (('1,200', 'NUM'), ('1,200', '.')),\n",
       " (('Mogavero', 'NOUN'), ('Mogavero', '.')),\n",
       " (('Piscataway', 'NOUN'), ('Piscataway', '.')),\n",
       " (('*T*-253', 'X'), ('*T*-253', '.')),\n",
       " (('exploit', 'VERB'), ('exploit', '.')),\n",
       " (('reds', 'NOUN'), ('reds', '.')),\n",
       " (('Rhone', 'NOUN'), ('Rhone', '.')),\n",
       " (('133.7', 'NUM'), ('133.7', '.')),\n",
       " (('94', 'NUM'), ('94', '.')),\n",
       " (('copied', 'VERB'), ('copied', '.')),\n",
       " (('octogenarians', 'NOUN'), ('octogenarians', '.')),\n",
       " (('*T*-222', 'X'), ('*T*-222', '.')),\n",
       " (('sometimes-exhausting', 'ADJ'), ('sometimes-exhausting', '.')),\n",
       " (('sounding', 'VERB'), ('sounding', '.')),\n",
       " (('belfries', 'NOUN'), ('belfries', '.')),\n",
       " (('Anglia', 'NOUN'), ('Anglia', '.')),\n",
       " (('manmade-fiber', 'ADJ'), ('manmade-fiber', '.')),\n",
       " (('405', 'NUM'), ('405', '.')),\n",
       " (('*T*-102', 'X'), ('*T*-102', '.')),\n",
       " (('more', 'ADJ'), ('more', 'ADV')),\n",
       " (('Communication', 'NOUN'), ('Communication', '.')),\n",
       " (('importer', 'NOUN'), ('importer', '.')),\n",
       " (('low-cost', 'ADJ'), ('low-cost', '.')),\n",
       " (('waived', 'VERB'), ('waived', '.')),\n",
       " (('anti-drug', 'ADJ'), ('anti-drug', '.')),\n",
       " (('*T*-128', 'X'), ('*T*-128', '.')),\n",
       " (('*T*-129', 'X'), ('*T*-129', '.')),\n",
       " (('computer-generated', 'ADJ'), ('computer-generated', '.')),\n",
       " (('containing', 'VERB'), ('containing', '.')),\n",
       " (('alternatively', 'ADV'), ('alternatively', '.')),\n",
       " (('intrusions', 'NOUN'), ('intrusions', '.')),\n",
       " (('Sloan', 'NOUN'), ('Sloan', '.')),\n",
       " (('43.875', 'NUM'), ('43.875', '.')),\n",
       " (('shopped', 'VERB'), ('shopped', '.')),\n",
       " (('reluctance', 'NOUN'), ('reluctance', '.')),\n",
       " (('lobbies', 'NOUN'), ('lobbies', '.')),\n",
       " (('133.8', 'NUM'), ('133.8', '.')),\n",
       " (('2.47', 'NUM'), ('2.47', '.')),\n",
       " (('7.4', 'NUM'), ('7.4', '.')),\n",
       " (('2.30', 'NUM'), ('2.30', '.')),\n",
       " (('modification', 'NOUN'), ('modification', '.')),\n",
       " (('*-130', 'X'), ('*-130', '.')),\n",
       " (('13.625', 'NUM'), ('13.625', '.')),\n",
       " (('wield', 'VERB'), ('wield', '.')),\n",
       " (('blindfold', 'NOUN'), ('blindfold', '.')),\n",
       " (('recommending', 'VERB'), ('recommending', '.')),\n",
       " (('Anything', 'NOUN'), ('Anything', '.')),\n",
       " (('Northampton', 'NOUN'), ('Northampton', '.')),\n",
       " (('protein', 'NOUN'), ('protein', '.')),\n",
       " (('Fundamentalists', 'NOUN'), ('Fundamentalists', '.')),\n",
       " (('bags', 'NOUN'), ('bags', '.')),\n",
       " (('side-crash', 'ADJ'), ('side-crash', '.')),\n",
       " (('workplace', 'NOUN'), ('workplace', '.')),\n",
       " (('Legend', 'NOUN'), ('Legend', '.')),\n",
       " (('Iran-Contra', 'NOUN'), ('Iran-Contra', '.')),\n",
       " (('wheel-loader', 'ADJ'), ('wheel-loader', '.')),\n",
       " (('Heidelberg', 'NOUN'), ('Heidelberg', '.')),\n",
       " (('distinguished', 'VERB'), ('distinguished', '.')),\n",
       " (('herself', 'PRON'), ('herself', '.')),\n",
       " (('approaches', 'NOUN'), ('approaches', '.')),\n",
       " (('pair', 'VERB'), ('pair', '.')),\n",
       " (('competitions', 'NOUN'), ('competitions', '.')),\n",
       " (('coffee', 'NOUN'), ('coffee', '.')),\n",
       " (('spurring', 'VERB'), ('spurring', '.')),\n",
       " (('Velcro', 'NOUN'), ('Velcro', '.')),\n",
       " (('non-core', 'ADJ'), ('non-core', '.')),\n",
       " (('platinum', 'NOUN'), ('platinum', '.')),\n",
       " (('appropriated', 'VERB'), ('appropriated', '.')),\n",
       " (('Johnson-era', 'NOUN'), ('Johnson-era', '.')),\n",
       " (('noncompetitively', 'ADV'), ('noncompetitively', '.')),\n",
       " (('concerned', 'VERB'), ('concerned', '.')),\n",
       " (('Wilfred', 'NOUN'), ('Wilfred', '.')),\n",
       " (('Corrigan', 'NOUN'), ('Corrigan', '.')),\n",
       " (('derivatives', 'NOUN'), ('derivatives', '.')),\n",
       " (('binders', 'NOUN'), ('binders', '.')),\n",
       " (('93.9', 'NUM'), ('93.9', '.')),\n",
       " (('1.19', 'NUM'), ('1.19', '.')),\n",
       " (('92.9', 'NUM'), ('92.9', '.')),\n",
       " (('1.18', 'NUM'), ('1.18', '.')),\n",
       " (('Demand', 'NOUN'), ('Demand', '.')),\n",
       " (('Berson', 'NOUN'), ('Berson', '.')),\n",
       " (('razor-thin', 'ADJ'), ('razor-thin', '.')),\n",
       " (('depend', 'VERB'), ('depend', '.')),\n",
       " (('longevity', 'NOUN'), ('longevity', '.')),\n",
       " (('rarely', 'ADV'), ('rarely', '.')),\n",
       " (('acted', 'VERB'), ('acted', '.')),\n",
       " (('deplorable', 'ADJ'), ('deplorable', '.')),\n",
       " (('brushed', 'VERB'), ('brushed', '.')),\n",
       " (('off', 'PRT'), ('off', 'ADP')),\n",
       " (('renewing', 'VERB'), ('renewing', '.')),\n",
       " (('insurgents', 'NOUN'), ('insurgents', '.')),\n",
       " (('topped', 'VERB'), ('topped', '.')),\n",
       " (('16.5', 'NUM'), ('16.5', '.')),\n",
       " (('technically', 'ADV'), ('technically', '.')),\n",
       " (('limitation', 'NOUN'), ('limitation', '.')),\n",
       " (('leash', 'NOUN'), ('leash', '.')),\n",
       " (('sue', 'VERB'), ('sue', '.')),\n",
       " (('777', 'NUM'), ('777', '.')),\n",
       " (('1.20', 'NUM'), ('1.20', '.')),\n",
       " (('1.14', 'NUM'), ('1.14', '.')),\n",
       " (('skill', 'NOUN'), ('skill', '.')),\n",
       " (('2163.2', 'NUM'), ('2163.2', '.')),\n",
       " (('dreamed', 'VERB'), ('dreamed', '.')),\n",
       " (('improbable', 'ADJ'), ('improbable', '.')),\n",
       " (('high-rise', 'ADJ'), ('high-rise', '.')),\n",
       " (('2-8', 'NUM'), ('2-8', '.')),\n",
       " (('A.C.', 'NOUN'), ('A.C.', '.')),\n",
       " (('Nielsen', 'NOUN'), ('Nielsen', '.')),\n",
       " (('element', 'NOUN'), ('element', '.')),\n",
       " (('Breeden', 'NOUN'), ('Breeden', '.')),\n",
       " (('breakers', 'NOUN'), ('breakers', '.')),\n",
       " (('*T*-215', 'X'), ('*T*-215', '.')),\n",
       " (('87.5', 'NUM'), ('87.5', '.')),\n",
       " (('38.875', 'NUM'), ('38.875', '.')),\n",
       " (('noodles', 'NOUN'), ('noodles', '.')),\n",
       " (('pre-cooked', 'ADJ'), ('pre-cooked', '.')),\n",
       " (('pasta', 'NOUN'), ('pasta', '.')),\n",
       " (('Clive', 'NOUN'), ('Clive', '.')),\n",
       " (('Smaby', 'NOUN'), ('Smaby', '.')),\n",
       " (('Smaby', 'NOUN'), ('Smaby', '.')),\n",
       " (('properties', 'NOUN'), ('properties', '.')),\n",
       " (('INTER-TEL', 'NOUN'), ('INTER-TEL', '.')),\n",
       " (('Gelles', 'NOUN'), ('Gelles', '.')),\n",
       " (('Wertheim', 'NOUN'), ('Wertheim', '.')),\n",
       " (('Schroder', 'NOUN'), ('Schroder', '.')),\n",
       " (('refunded', 'VERB'), ('refunded', '.')),\n",
       " (('shareholder-rights', 'ADJ'), ('shareholder-rights', '.')),\n",
       " (('suitors', 'NOUN'), ('suitors', '.')),\n",
       " (('bothered', 'VERB'), ('bothered', '.')),\n",
       " (('inverse', 'NOUN'), ('inverse', '.')),\n",
       " (('66.5', 'NUM'), ('66.5', '.')),\n",
       " (('affecting', 'VERB'), ('affecting', '.')),\n",
       " (('Hazell', 'NOUN'), ('Hazell', '.')),\n",
       " (('auditor', 'NOUN'), ('auditor', '.')),\n",
       " (('vested', 'VERB'), ('vested', '.')),\n",
       " (('seconds', 'NOUN'), ('seconds', '.')),\n",
       " (('low-tech', 'ADJ'), ('low-tech', '.')),\n",
       " (('day-care', 'ADJ'), ('day-care', '.')),\n",
       " (('spurned', 'VERB'), ('spurned', '.')),\n",
       " (('pressed', 'VERB'), ('pressed', '.')),\n",
       " (('implemented', 'VERB'), ('implemented', '.')),\n",
       " (('7.422', 'NUM'), ('7.422', '.')),\n",
       " (('crunch', 'NOUN'), ('crunch', '.')),\n",
       " (('crunch', 'NOUN'), ('crunch', '.')),\n",
       " (('bang', 'NOUN'), ('bang', '.')),\n",
       " (('bang', 'NOUN'), ('bang', '.')),\n",
       " (('bang', 'NOUN'), ('bang', '.')),\n",
       " (('exit', 'NOUN'), ('exit', '.')),\n",
       " (('minted', 'VERB'), ('minted', '.')),\n",
       " (('millionaires', 'NOUN'), ('millionaires', '.')),\n",
       " (('20s', 'NUM'), ('20s', '.')),\n",
       " (('30s', 'NUM'), ('30s', '.')),\n",
       " (('rentals', 'NOUN'), ('rentals', '.')),\n",
       " (('accidents', 'NOUN'), ('accidents', '.')),\n",
       " (('computer-system-design', 'ADJ'), ('computer-system-design', '.')),\n",
       " (('more-advanced', 'ADJ'), ('more-advanced', '.')),\n",
       " (('microprocessor', 'NOUN'), ('microprocessor', '.')),\n",
       " (('megabytes', 'NOUN'), ('megabytes', '.')),\n",
       " (('hard', 'ADJ'), ('hard', 'ADV')),\n",
       " (('5,699', 'NUM'), ('5,699', '.')),\n",
       " (('6,799', 'NUM'), ('6,799', '.')),\n",
       " (('storm', 'NOUN'), ('storm', '.')),\n",
       " (('Citizens', 'NOUN'), ('Citizens', '.')),\n",
       " (('Peninsula', 'NOUN'), ('Peninsula', '.')),\n",
       " (('pressed', 'VERB'), ('pressed', '.')),\n",
       " (('*T*-156', 'X'), ('*T*-156', '.')),\n",
       " (('concerned', 'VERB'), ('concerned', '.')),\n",
       " (('developments', 'NOUN'), ('developments', '.')),\n",
       " (('saved', 'VERB'), ('saved', '.')),\n",
       " (('reclaim', 'VERB'), ('reclaim', '.')),\n",
       " (('mortgaged', 'VERB'), ('mortgaged', '.')),\n",
       " (('price-support', 'ADJ'), ('price-support', '.')),\n",
       " (('compilation', 'NOUN'), ('compilation', '.')),\n",
       " (('direct-investment', 'ADJ'), ('direct-investment', '.')),\n",
       " (('actor', 'NOUN'), ('actor', '.')),\n",
       " (('inheritor', 'NOUN'), ('inheritor', '.')),\n",
       " (('Charlie', 'NOUN'), ('Charlie', '.')),\n",
       " (('teetering', 'VERB'), ('teetering', '.')),\n",
       " (('fan', 'NOUN'), ('fan', '.')),\n",
       " (('seven-million-ton', 'ADJ'), ('seven-million-ton', '.')),\n",
       " (('cut', 'NOUN'), ('cut', 'VERB')),\n",
       " (('50.1', 'NUM'), ('50.1', '.')),\n",
       " (('DiLoreto', 'NOUN'), ('DiLoreto', '.')),\n",
       " (('container', 'NOUN'), ('container', '.')),\n",
       " (('Delmont', 'NOUN'), ('Delmont', '.')),\n",
       " (('FreudToy', 'NOUN'), ('FreudToy', '.')),\n",
       " (('pillow', 'NOUN'), ('pillow', '.')),\n",
       " (('likeness', 'NOUN'), ('likeness', '.')),\n",
       " (('Sigmund', 'NOUN'), ('Sigmund', '.')),\n",
       " (('Freud', 'NOUN'), ('Freud', '.')),\n",
       " (('24.95', 'NUM'), ('24.95', '.')),\n",
       " (('do-it-yourself', 'ADJ'), ('do-it-yourself', '.')),\n",
       " (('1.82', 'NUM'), ('1.82', '.')),\n",
       " (('84.29', 'NUM'), ('84.29', '.')),\n",
       " (('longtime', 'NOUN'), ('longtime', '.')),\n",
       " (('scholar', 'NOUN'), ('scholar', '.')),\n",
       " (('enormously', 'ADV'), ('enormously', '.')),\n",
       " (('frustrating', 'VERB'), ('frustrating', '.')),\n",
       " (('science', 'NOUN'), ('science', '.')),\n",
       " (('invent', 'VERB'), ('invent', '.')),\n",
       " (('Walkman', 'NOUN'), ('Walkman', '.')),\n",
       " (('IRAs', 'NOUN'), ('IRAs', '.')),\n",
       " (('segmenting', 'VERB'), ('segmenting', '.')),\n",
       " (('equip', 'VERB'), ('equip', '.')),\n",
       " (('lap-shoulder', 'ADJ'), ('lap-shoulder', '.')),\n",
       " (('soliciting', 'VERB'), ('soliciting', '.')),\n",
       " (('TXO', 'NOUN'), ('TXO', '.')),\n",
       " ((\"'s\", 'PRT'), (\"'s\", 'VERB')),\n",
       " (('trip', 'NOUN'), ('trip', '.')),\n",
       " (('mesothelioma', 'NOUN'), ('mesothelioma', '.')),\n",
       " (('asbestosis', 'NOUN'), ('asbestosis', '.')),\n",
       " (('16.9', 'NUM'), ('16.9', '.')),\n",
       " (('17.4', 'NUM'), ('17.4', '.')),\n",
       " (('18.6', 'NUM'), ('18.6', '.')),\n",
       " (('Tokyu', 'NOUN'), ('Tokyu', '.')),\n",
       " (('verge', 'NOUN'), ('verge', '.')),\n",
       " (('accidentally', 'ADV'), ('accidentally', '.')),\n",
       " (('enabled', 'VERB'), ('enabled', '.')),\n",
       " (('cocoa', 'NOUN'), ('cocoa', '.')),\n",
       " (('war-rationed', 'ADJ'), ('war-rationed', '.')),\n",
       " (('goodies', 'NOUN'), ('goodies', '.')),\n",
       " (('reins', 'NOUN'), ('reins', '.')),\n",
       " (('competed', 'VERB'), ('competed', '.')),\n",
       " (('1.50', 'NUM'), ('1.50', '.')),\n",
       " (('I.', 'NOUN'), ('I.', '.')),\n",
       " (('platinum', 'NOUN'), ('platinum', '.')),\n",
       " (('5.70', 'NUM'), ('5.70', '.')),\n",
       " (('494.50', 'NUM'), ('494.50', '.'))]"
      ]
     },
     "execution_count": 47,
     "metadata": {},
     "output_type": "execute_result"
    }
   ],
   "source": [
    "check_corrected(tagged_seq_mod_viterbi_2, tagged_seq_vanilla_viterbi, test_run_base)"
   ]
  },
  {
   "cell_type": "markdown",
   "metadata": {},
   "source": [
    "### COMPARISON ON EVALUATION SET:"
   ]
  },
  {
   "cell_type": "markdown",
   "metadata": {},
   "source": [
    "#### WORDS CORRECTLY CALSSIFIED BY VITERBI WITH TRANSITION PROBABILITY COMPARED TO VANILLA VITERBI ON EVALUATION SET:"
   ]
  },
  {
   "cell_type": "code",
   "execution_count": 48,
   "metadata": {},
   "outputs": [
    {
     "data": {
      "text/plain": [
       "[(('Android', 'NOUN'), ('Android', '.')),\n",
       " (('Android', 'NOUN'), ('Android', '.')),\n",
       " (('OS', 'NOUN'), ('OS', '.')),\n",
       " (('worldwide', 'NOUN'), ('worldwide', '.')),\n",
       " (('Google', 'NOUN'), ('Google', '.')),\n",
       " (('Twitter', 'NOUN'), ('Twitter', '.')),\n",
       " ((\"'s\", 'PRT'), (\"'s\", 'VERB')),\n",
       " (('Twitter', 'NOUN'), ('Twitter', '.')),\n",
       " (('interact', 'NOUN'), ('interact', '.')),\n",
       " (('personality', 'NOUN'), ('personality', '.')),\n",
       " (('FIFA', 'NOUN'), ('FIFA', '.')),\n",
       " (('Cup', 'NOUN'), ('Cup', '.')),\n",
       " (('FIFA', 'NOUN'), ('FIFA', '.')),\n",
       " (('Cup', 'NOUN'), ('Cup', '.')),\n",
       " (('tournament', 'NOUN'), ('tournament', '.')),\n",
       " (('Cup', 'NOUN'), ('Cup', '.')),\n",
       " (('trips', 'NOUN'), ('trips', '.')),\n",
       " (('arriving', 'NOUN'), ('arriving', '.')),\n",
       " (('NASA', 'NOUN'), ('NASA', '.')),\n",
       " (('Satellite', 'NOUN'), ('Satellite', '.'))]"
      ]
     },
     "execution_count": 48,
     "metadata": {},
     "output_type": "execute_result"
    }
   ],
   "source": [
    "check_corrected(eval_tagged_seq_viterbi_proba, eval_tagged_seq_vanilla_viterbi, evaluation_sentences_run_base)"
   ]
  },
  {
   "cell_type": "markdown",
   "metadata": {},
   "source": [
    "#### WORDS CORRECTLY CALSSIFIED BY VITERBI WITH REGEX TRAGGER BACKOFF COMPARED TO VANILLA VITERBI ON EVALUATION SET:"
   ]
  },
  {
   "cell_type": "code",
   "execution_count": 49,
   "metadata": {},
   "outputs": [
    {
     "data": {
      "text/plain": [
       "[(('Android', 'NOUN'), ('Android', '.')),\n",
       " (('Google', 'NOUN'), ('Google', '.')),\n",
       " (('Android', 'NOUN'), ('Android', '.')),\n",
       " (('OS', 'NOUN'), ('OS', '.')),\n",
       " (('worldwide', 'NOUN'), ('worldwide', '.')),\n",
       " (('smartphones', 'NOUN'), ('smartphones', '.')),\n",
       " (('2011', 'NUM'), ('2011', '.')),\n",
       " (('2013', 'NUM'), ('2013', '.')),\n",
       " (('Google', 'NOUN'), ('Google', '.')),\n",
       " (('Twitter', 'NOUN'), ('Twitter', '.')),\n",
       " (('2015', 'NUM'), ('2015', '.')),\n",
       " (('Google', 'NOUN'), ('Google', '.')),\n",
       " (('Twitter', 'NOUN'), ('Twitter', '.')),\n",
       " ((\"'s\", 'PRT'), (\"'s\", 'VERB')),\n",
       " (('Twitter', 'NOUN'), ('Twitter', '.')),\n",
       " (('interact', 'NOUN'), ('interact', '.')),\n",
       " (('messages', 'NOUN'), ('messages', '.')),\n",
       " (('tweets', 'NOUN'), ('tweets', '.')),\n",
       " (('personality', 'NOUN'), ('personality', '.')),\n",
       " (('2018', 'NUM'), ('2018', '.')),\n",
       " (('FIFA', 'NOUN'), ('FIFA', '.')),\n",
       " (('Cup', 'NOUN'), ('Cup', '.')),\n",
       " (('21st', 'NUM'), ('21st', '.')),\n",
       " (('FIFA', 'NOUN'), ('FIFA', '.')),\n",
       " (('Cup', 'NOUN'), ('Cup', '.')),\n",
       " (('tournament', 'NOUN'), ('tournament', '.')),\n",
       " (('contested', 'VERB'), ('contested', '.')),\n",
       " (('Cup', 'NOUN'), ('Cup', '.')),\n",
       " (('trips', 'NOUN'), ('trips', '.')),\n",
       " (('NASA', 'NOUN'), ('NASA', '.')),\n",
       " (('invited', 'VERB'), ('invited', '.')),\n",
       " (('ICESAT-2', 'NOUN'), ('ICESAT-2', '.')),\n",
       " (('Satellite', 'NOUN'), ('Satellite', '.'))]"
      ]
     },
     "execution_count": 49,
     "metadata": {},
     "output_type": "execute_result"
    }
   ],
   "source": [
    "check_corrected(eval_tagged_seq_viterbi_with_regex, eval_tagged_seq_vanilla_viterbi, evaluation_sentences_run_base)"
   ]
  },
  {
   "cell_type": "markdown",
   "metadata": {},
   "source": [
    "## CONCLUSION:"
   ]
  },
  {
   "cell_type": "markdown",
   "metadata": {},
   "source": [
    "**FOLLOWING ARE THE ACCURACIES OF VITERBI ALGORITHMS ON TEST SET (CREATED FROM TRAIN TEST SPLIT) :**\n",
    "    \n",
    "1. VANILLA VITERBI: 91.39%\n",
    "2. VITERBI WITH TRANSITION PROBABILITY FOR UNKNOWN WORDS: 93.89%\n",
    "3. VITERBI WITH REGEX POS TAGGING: 96.26%"
   ]
  },
  {
   "cell_type": "markdown",
   "metadata": {},
   "source": [
    "**EVALUATION ON TEST SENTENCES AS GIVEN PART OF \"Test_sentences.txt\"**\n",
    "\n",
    "1. VANILLA VITERBI: 76.24%\n",
    "2. VITERBI WITH TRANSITION PROBABILITY FOR UNKNOWN WORDS: 86.74%\n",
    "3. VITERBI WITH REGEX POS TAGGING: 93.92%"
   ]
  },
  {
   "cell_type": "markdown",
   "metadata": {},
   "source": [
    "As we can see from above results on test data as well as on evaluating on \"Test_sentences.txt\" the VITERBI with Regex Rule Based modification resulted in higher accuracy compared to vanilla viterbi algorithm."
   ]
  }
 ],
 "metadata": {
  "kernelspec": {
   "display_name": "Python 3",
   "language": "python",
   "name": "python3"
  },
  "language_info": {
   "codemirror_mode": {
    "name": "ipython",
    "version": 3
   },
   "file_extension": ".py",
   "mimetype": "text/x-python",
   "name": "python",
   "nbconvert_exporter": "python",
   "pygments_lexer": "ipython3",
   "version": "3.7.1"
  }
 },
 "nbformat": 4,
 "nbformat_minor": 2
}
